{
 "cells": [
  {
   "cell_type": "markdown",
   "metadata": {},
   "source": [
    "## Projeto 2 Ciência dos Dados 2020.1\n",
    "___\n",
    "- Daniel Gurgel Terra\n",
    "- Gabriel Formario\n",
    "___"
   ]
  },
  {
   "cell_type": "code",
   "execution_count": 1,
   "metadata": {},
   "outputs": [],
   "source": [
    "from sklearn.model_selection import train_test_split as tts\n",
    "from sklearn.metrics import *\n",
    "from sklearn.tree import DecisionTreeClassifier as DecisionTree\n",
    "from sklearn.linear_model import LogisticRegression\n",
    "from sklearn.naive_bayes import BernoulliNB\n",
    "from sklearn.naive_bayes import GaussianNB\n",
    "from sklearn.naive_bayes import MultinomialNB\n"
   ]
  },
  {
   "cell_type": "code",
   "execution_count": 2,
   "metadata": {},
   "outputs": [],
   "source": [
    "import matplotlib.pyplot as plt\n",
    "import pandas as pd\n",
    "import numpy as np"
   ]
  },
  {
   "cell_type": "markdown",
   "metadata": {},
   "source": [
    "## Data"
   ]
  },
  {
   "cell_type": "code",
   "execution_count": 3,
   "metadata": {},
   "outputs": [],
   "source": [
    "data = pd.read_csv(\"mushrooms.csv\")"
   ]
  },
  {
   "cell_type": "markdown",
   "metadata": {},
   "source": [
    "## Funções"
   ]
  },
  {
   "cell_type": "markdown",
   "metadata": {},
   "source": [
    "* Json"
   ]
  },
  {
   "cell_type": "code",
   "execution_count": 4,
   "metadata": {},
   "outputs": [],
   "source": [
    "import json\n",
    "with open('Renomeador.json', encoding=\"utf-8\") as json_file: \n",
    "    renomeador = json.load(json_file)"
   ]
  },
  {
   "cell_type": "markdown",
   "metadata": {},
   "source": [
    "* Limpeza dos dados "
   ]
  },
  {
   "cell_type": "code",
   "execution_count": 5,
   "metadata": {},
   "outputs": [],
   "source": [
    "def Limpeza(data):\n",
    "    i = 0\n",
    "    for nomeClasse,listaValores in renomeador.items():\n",
    "        data.rename(columns={data.columns[i]:nomeClasse}, inplace=True)\n",
    "        data[nomeClasse].replace(listaValores, inplace=True)\n",
    "        i += 1"
   ]
  },
  {
   "cell_type": "markdown",
   "metadata": {},
   "source": [
    "* Gráfico para cada característica do cogumelo no dataset"
   ]
  },
  {
   "cell_type": "code",
   "execution_count": 6,
   "metadata": {},
   "outputs": [],
   "source": [
    "# Dataset passa pela limpeza para que a função abaixo funcione\n",
    "Limpeza(data)"
   ]
  },
  {
   "cell_type": "code",
   "execution_count": 7,
   "metadata": {},
   "outputs": [],
   "source": [
    "def Grafico_por_caracteristica(intervalo,data):\n",
    "\n",
    "    colunas = list(renomeador.keys())\n",
    "\n",
    "    for i in intervalo:\n",
    "\n",
    "        plt.figure(figsize=(10,5))\n",
    "\n",
    "        Venenoso = data[data['Periculosidade']=='venenoso'][colunas[i]].value_counts(True)*100\n",
    "        Comestivel = data[data['Periculosidade']=='comestível'][colunas[i]].value_counts(True)*100\n",
    "\n",
    "        plt.bar( np.arange(len(Comestivel)), Comestivel.values.tolist(), width=.25, color=\"g\")\n",
    "\n",
    "        plt.bar( np.arange(len(Venenoso)) + [.25]*len(Venenoso), Venenoso.values.tolist(), width=.25, color=\"r\")\n",
    "\n",
    "        plt.xticks(np.arange(len(Venenoso)) + len(Venenoso)*[0.125],Venenoso.axes[0].tolist())\n",
    "\n",
    "        plt.ylabel(\"Percentual\"); plt.xlabel(\"Características\"); plt.title(colunas[i])\n",
    "        \n",
    "        plt.legend(['Comestível','Venenoso'],title=\"Periculosidade\")\n",
    "\n",
    "    plt.show()"
   ]
  },
  {
   "cell_type": "markdown",
   "metadata": {},
   "source": [
    " #### Encoder\n",
    " * Processo que transforma as variavéis qualitativas em quantitativas de acordo com a respectiva característica\n",
    " * Técnica encontrada em : https://www.kaggle.com/nirajvermafcb/comparing-various-ml-models-roc-curve-comparison"
   ]
  },
  {
   "cell_type": "code",
   "execution_count": 8,
   "metadata": {},
   "outputs": [
    {
     "data": {
      "text/plain": [
       "array([1, 0])"
      ]
     },
     "execution_count": 8,
     "metadata": {},
     "output_type": "execute_result"
    }
   ],
   "source": [
    "from sklearn.preprocessing import LabelEncoder\n",
    "labelencoder=LabelEncoder()\n",
    "for col in data.columns:\n",
    "    data[col] = labelencoder.fit_transform(data[col])\n",
    "\n",
    "# Mostrar que o dataset agora possui uma numeração para cada característica   \n",
    "data['Ligação Branquea'].unique()"
   ]
  },
  {
   "cell_type": "code",
   "execution_count": 9,
   "metadata": {},
   "outputs": [],
   "source": [
    "inputs = data.drop(columns=[\"Periculosidade\"])\n",
    "target = data[\"Periculosidade\"]\n",
    "X_treino,X_teste,Y_treino,Y_teste=tts(inputs,target,test_size=0.8)"
   ]
  },
  {
   "cell_type": "markdown",
   "metadata": {},
   "source": [
    "* Funcao de previsao de modelos utilizadas no Machine Learning"
   ]
  },
  {
   "cell_type": "code",
   "execution_count": 10,
   "metadata": {},
   "outputs": [],
   "source": [
    "def Previsão(tipo,logistica=False):\n",
    "    \n",
    "    if logistica:\n",
    "        model = tipo(solver='lbfgs',multi_class='auto',max_iter=1000)\n",
    "    else:\n",
    "        model = tipo()\n",
    "    \n",
    "    model.fit(X_treino,Y_treino);\n",
    "    model.score(X_teste,Y_teste);\n",
    "    Y_predict = model.predict(X_teste);\n",
    "    \n",
    "    acertos=0\n",
    "    for i in range(len(X_teste)):\n",
    "        if Y_predict[i]==Y_teste.iloc[i]:\n",
    "            acertos+=1;\n",
    "            \n",
    "    erros = len(X_teste)-acertos\n",
    "    \n",
    "    return round(acertos/len(X_teste)*100,2), round(erros/len(X_teste)*100,2)"
   ]
  },
  {
   "cell_type": "markdown",
   "metadata": {},
   "source": [
    " "
   ]
  }
 ],
 "metadata": {
  "kernelspec": {
   "display_name": "Python 3",
   "language": "python",
   "name": "python3"
  },
  "language_info": {
   "codemirror_mode": {
    "name": "ipython",
    "version": 3
   },
   "file_extension": ".py",
   "mimetype": "text/x-python",
   "name": "python",
   "nbconvert_exporter": "python",
   "pygments_lexer": "ipython3",
   "version": "3.7.1"
  }
 },
 "nbformat": 4,
 "nbformat_minor": 4
}
