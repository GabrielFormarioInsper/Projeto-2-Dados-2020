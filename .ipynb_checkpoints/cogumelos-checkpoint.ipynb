{
 "cells": [
  {
   "cell_type": "code",
   "execution_count": 1,
   "metadata": {},
   "outputs": [],
   "source": [
    "### Funcoes que serao realocadas em outros arquvos"
   ]
  },
  {
   "cell_type": "code",
   "execution_count": 2,
   "metadata": {},
   "outputs": [],
   "source": [
    "renomeador = {\n",
    "    \"Periculosidade\": {\"p\": \"venenoso\", \"e\": \"comestível\"},\n",
    "    \"Forma\": {\"b\":\"Bell\", \"c\":\"Conical\", \"x\":\"Convex\",\"f\":\"Flat\", \"k\":\"Knobbed\", \"s\":\"Sunken\"},\n",
    "    \"Formato chapéu\": {\"f\": \"fibrous\", \"g\": \"grooves\", \"y\": \"scaly\", \"s\": \"smooth\"},\n",
    "    \"Cor chapéu\": {\"n\":\"Marrom\", \"b\":\"Buff\", \"c\":\"Cinanamon\",\"g\":\"Cinza\", \"r\":\"Verde\", \"p\":\"Rosa\", \"u\":\"Roxo\", \"e\":\"Vermelho\", \"w\":\"Branco\",\"y\":\"Amarelo\"},\n",
    "    \"Machucada\": {\"t\": \"machucada\", \"f\": \"nao machucada\"},\n",
    "    \"Odor\": {\"a\":\"Almond\", \"l\":\"Anise\", \"c\":\"Creosote\",\"y\":\"Fishy\", \"f\":\"Foul\", \"m\":\"Musty\",\"n\":\"none\", \"p\":\"Pungent\", \"s\":\"Spicy\"},\n",
    "    \"Ligação Branquea\": {\"a\": \"Attached\", \"d\": \"Descending\", \"f\": \"Free\", \"n\":\"notched\"},\n",
    "    \"Espaçamento Branquia\": {\"c\": \"Close\", \"w\": \"Crowded\", \"d\": \"Distant\"},\n",
    "    \"Tamanho Branquia\": {\"b\": \"Broad\", \"n\": \"Narrow\"},\n",
    "    \"Cor Branquia\": {\"k\":\"Black\", \"n\":\"Brown\", \"b\":\"Buff\",\"h\":\"Chocolate\", \"g\":\"Gray\", \"r\":\"Green\", \"o\":\"Orange\", \"p\":\"Pink\", \"u\":\"Purple\",\"e\":\"Red\", \"w\": \"White\", \"y\": \"Yellow\"},\n",
    "    \"Stalk forma\": {\"e\": \"Enlarging\", \"t\": \"Tapering\"},\n",
    "    \"Stalk raiz\": {\"b\": \"Bulbuos\", \"c\": \"Club\",\"u\": \"Cup\", \"e\": \"Equal\",\"z\": \"Rhizomorphs\", \"r\": \"Rooted\", \"?\": \"missing\"},\n",
    "    \"Stalk superficie emcima do anel\": {\"f\": \"Fibrous\", \"y\": \"Scaly\", \"k\": \"Silky\", \"s\": \"Smooth\"},\n",
    "    \"Stalk superficie embaixo do anel\": {\"f\": \"Fibrous\", \"y\": \"Scaly\", \"k\": \"Silky\", \"s\": \"Smooth\"},\n",
    "    \"Stalk cor emcima do anel\": {\"k\":\"Black\", \"n\":\"Brown\", \"b\":\"Buff\",\"h\":\"Chocolate\", \"g\":\"Gray\", \"r\":\"Green\", \"o\":\"Orange\", \"p\":\"Pink\", \"u\":\"Purple\",\"e\":\"Red\", \"w\": \"White\", \"y\": \"Yellow\"},\n",
    "    \"Stalk cor embaixo do anel\": {\"k\":\"Black\", \"n\":\"Brown\", \"b\":\"Buff\",\"h\":\"Chocolate\", \"g\":\"Gray\", \"r\":\"Green\", \"o\":\"Orange\", \"p\":\"Pink\", \"u\":\"Purple\",\"e\":\"Red\", \"w\": \"White\", \"y\": \"Yellow\"},\n",
    "    \"Veil tipo\": {\"p\": \"Partipial\", \"u\": \"Universal\"},\n",
    "    \"Veil cor\": {\"n\": \"Brown\", \"o\": \"Orange\", \"w\": \"White\", \"y\": \"Yellow\"},\n",
    "    \"Numero Anel\": {\"n\": \"none\", \"o\": \"one\", \"t\": \"two\"},\n",
    "    \"Tipo Anel\": {\"c\": \"Cobwebby\", \"e\": \"Evanescent\", \"f\": \"Flaring\", \"l\": \"Large\", \"n\": \"None\", \"p\": \"Pendant\", \"s\": \"Sheathing\", \"z\": \"Zone\"},\n",
    "    \"Cor poro\": {\"k\":\"Black\", \"n\":\"Brown\", \"b\":\"Buff\",\"h\":\"Chocolate\", \"g\":\"Gray\", \"r\":\"Green\", \"o\":\"Orange\", \"p\":\"Pink\", \"u\":\"Purple\",\"e\":\"Red\", \"w\": \"White\", \"y\": \"Yellow\"},\n",
    "    \"População\": {\"a\": \"Abundant\", \"c\": \"Clustered\", \"n\": \"Numerous\", \"s\": \"Scattered\", \"v\": \"Several\", \"y\": \"Solitary\"},\n",
    "    \"Habitat\": {\"g\":\"grama\",\"l\":\"folhas\",\"m\":\"prados\",\"p\":\"paths\",\"u\":\"urbano\",\"w\":\"waste\",\"d\":\"madeira\"},\n",
    "}\n"
   ]
  },
  {
   "cell_type": "code",
   "execution_count": 3,
   "metadata": {},
   "outputs": [],
   "source": [
    "def Limpeza():\n",
    "    i = 0\n",
    "    for nomeClasse,listaValores in renomeador.items():\n",
    "        data.rename(columns={data.columns[i]:nomeClasse}, inplace=True)\n",
    "        data[nomeClasse].replace(listaValores, inplace=True)\n",
    "        i += 1"
   ]
  },
  {
   "cell_type": "code",
   "execution_count": 4,
   "metadata": {},
   "outputs": [],
   "source": [
    "def Previsão(tipo,k,logistica=False):\n",
    "    \n",
    "    if logistica:\n",
    "        model = tipo(solver='lbfgs',multi_class='auto',max_iter=1000)\n",
    "    else:\n",
    "        model = tipo()\n",
    "    \n",
    "    model.fit(X_treino,Y_treino);\n",
    "    \n",
    "    model.score(X_teste,Y_teste);\n",
    "    \n",
    "    Y_predict = model.predict(X_teste)\n",
    "    \n",
    "    acertos=0\n",
    "    for i in range(len(X_teste)):\n",
    "        \n",
    "        if Y_predict[i]==Y_teste.iloc[i]:\n",
    "            acertos+=1    \n",
    "        #else:\n",
    "         #   print('Error',data.iloc[X_teste.index])\n",
    "                    \n",
    "    print()\n",
    "\n",
    "    print()\n",
    "    \n",
    "    print('Numero de acertos:',acertos)\n",
    "    \n",
    "    erros = len(X_teste)-acertos\n",
    "    print('Número de erros:',erros)\n",
    "    \n",
    "    print('Porcentagem de acertos: {:.2f}%'.format(acertos/len(X_teste)*100) )\n",
    "    \n",
    "    plt.pie([acertos,len(X_teste)-acertos],\n",
    "            explode=[1,-.95],\n",
    "            labels=[None,'Erros'], \n",
    "            colors=[\"#98FB98\",\"#0B6623\"]);\n",
    "    \n",
    "    plt.show()"
   ]
  },
  {
   "cell_type": "markdown",
   "metadata": {},
   "source": [
    "## Projeto 2 Ciência dos Dados 2020.1\n",
    "___\n",
    "- Daniel Gurgel Terra\n",
    "- Gabriel Formario\n",
    "___"
   ]
  },
  {
   "cell_type": "markdown",
   "metadata": {},
   "source": [
    "    Dada as características biológica dos cogumelos é possível um machine learning determinar se eles são venenosos ou comestíveis ?"
   ]
  },
  {
   "cell_type": "code",
   "execution_count": 5,
   "metadata": {},
   "outputs": [],
   "source": [
    "import matplotlib.pyplot as plt\n",
    "import pandas as pd\n",
    "import numpy as np"
   ]
  },
  {
   "cell_type": "code",
   "execution_count": 6,
   "metadata": {},
   "outputs": [],
   "source": [
    "from sklearn.model_selection import train_test_split as tts\n",
    "from sklearn.metrics import *\n",
    "from sklearn.tree import DecisionTreeClassifier as DecisionTree\n",
    "from sklearn.linear_model import LogisticRegression\n",
    "from sklearn.naive_bayes import BernoulliNB\n",
    "from sklearn.naive_bayes import GaussianNB\n",
    "from sklearn.naive_bayes import MultinomialNB"
   ]
  },
  {
   "cell_type": "markdown",
   "metadata": {},
   "source": [
    "### Limpeza de Dados"
   ]
  },
  {
   "cell_type": "code",
   "execution_count": 7,
   "metadata": {},
   "outputs": [
    {
     "data": {
      "text/html": [
       "<div>\n",
       "<style scoped>\n",
       "    .dataframe tbody tr th:only-of-type {\n",
       "        vertical-align: middle;\n",
       "    }\n",
       "\n",
       "    .dataframe tbody tr th {\n",
       "        vertical-align: top;\n",
       "    }\n",
       "\n",
       "    .dataframe thead th {\n",
       "        text-align: right;\n",
       "    }\n",
       "</style>\n",
       "<table border=\"1\" class=\"dataframe\">\n",
       "  <thead>\n",
       "    <tr style=\"text-align: right;\">\n",
       "      <th></th>\n",
       "      <th>class</th>\n",
       "      <th>cap-shape</th>\n",
       "      <th>cap-surface</th>\n",
       "      <th>cap-color</th>\n",
       "      <th>bruises</th>\n",
       "      <th>odor</th>\n",
       "      <th>gill-attachment</th>\n",
       "      <th>gill-spacing</th>\n",
       "      <th>gill-size</th>\n",
       "      <th>gill-color</th>\n",
       "      <th>...</th>\n",
       "      <th>stalk-surface-below-ring</th>\n",
       "      <th>stalk-color-above-ring</th>\n",
       "      <th>stalk-color-below-ring</th>\n",
       "      <th>veil-type</th>\n",
       "      <th>veil-color</th>\n",
       "      <th>ring-number</th>\n",
       "      <th>ring-type</th>\n",
       "      <th>spore-print-color</th>\n",
       "      <th>population</th>\n",
       "      <th>habitat</th>\n",
       "    </tr>\n",
       "  </thead>\n",
       "  <tbody>\n",
       "    <tr>\n",
       "      <th>0</th>\n",
       "      <td>p</td>\n",
       "      <td>x</td>\n",
       "      <td>s</td>\n",
       "      <td>n</td>\n",
       "      <td>t</td>\n",
       "      <td>p</td>\n",
       "      <td>f</td>\n",
       "      <td>c</td>\n",
       "      <td>n</td>\n",
       "      <td>k</td>\n",
       "      <td>...</td>\n",
       "      <td>s</td>\n",
       "      <td>w</td>\n",
       "      <td>w</td>\n",
       "      <td>p</td>\n",
       "      <td>w</td>\n",
       "      <td>o</td>\n",
       "      <td>p</td>\n",
       "      <td>k</td>\n",
       "      <td>s</td>\n",
       "      <td>u</td>\n",
       "    </tr>\n",
       "    <tr>\n",
       "      <th>1</th>\n",
       "      <td>e</td>\n",
       "      <td>x</td>\n",
       "      <td>s</td>\n",
       "      <td>y</td>\n",
       "      <td>t</td>\n",
       "      <td>a</td>\n",
       "      <td>f</td>\n",
       "      <td>c</td>\n",
       "      <td>b</td>\n",
       "      <td>k</td>\n",
       "      <td>...</td>\n",
       "      <td>s</td>\n",
       "      <td>w</td>\n",
       "      <td>w</td>\n",
       "      <td>p</td>\n",
       "      <td>w</td>\n",
       "      <td>o</td>\n",
       "      <td>p</td>\n",
       "      <td>n</td>\n",
       "      <td>n</td>\n",
       "      <td>g</td>\n",
       "    </tr>\n",
       "    <tr>\n",
       "      <th>2</th>\n",
       "      <td>e</td>\n",
       "      <td>b</td>\n",
       "      <td>s</td>\n",
       "      <td>w</td>\n",
       "      <td>t</td>\n",
       "      <td>l</td>\n",
       "      <td>f</td>\n",
       "      <td>c</td>\n",
       "      <td>b</td>\n",
       "      <td>n</td>\n",
       "      <td>...</td>\n",
       "      <td>s</td>\n",
       "      <td>w</td>\n",
       "      <td>w</td>\n",
       "      <td>p</td>\n",
       "      <td>w</td>\n",
       "      <td>o</td>\n",
       "      <td>p</td>\n",
       "      <td>n</td>\n",
       "      <td>n</td>\n",
       "      <td>m</td>\n",
       "    </tr>\n",
       "    <tr>\n",
       "      <th>3</th>\n",
       "      <td>p</td>\n",
       "      <td>x</td>\n",
       "      <td>y</td>\n",
       "      <td>w</td>\n",
       "      <td>t</td>\n",
       "      <td>p</td>\n",
       "      <td>f</td>\n",
       "      <td>c</td>\n",
       "      <td>n</td>\n",
       "      <td>n</td>\n",
       "      <td>...</td>\n",
       "      <td>s</td>\n",
       "      <td>w</td>\n",
       "      <td>w</td>\n",
       "      <td>p</td>\n",
       "      <td>w</td>\n",
       "      <td>o</td>\n",
       "      <td>p</td>\n",
       "      <td>k</td>\n",
       "      <td>s</td>\n",
       "      <td>u</td>\n",
       "    </tr>\n",
       "    <tr>\n",
       "      <th>4</th>\n",
       "      <td>e</td>\n",
       "      <td>x</td>\n",
       "      <td>s</td>\n",
       "      <td>g</td>\n",
       "      <td>f</td>\n",
       "      <td>n</td>\n",
       "      <td>f</td>\n",
       "      <td>w</td>\n",
       "      <td>b</td>\n",
       "      <td>k</td>\n",
       "      <td>...</td>\n",
       "      <td>s</td>\n",
       "      <td>w</td>\n",
       "      <td>w</td>\n",
       "      <td>p</td>\n",
       "      <td>w</td>\n",
       "      <td>o</td>\n",
       "      <td>e</td>\n",
       "      <td>n</td>\n",
       "      <td>a</td>\n",
       "      <td>g</td>\n",
       "    </tr>\n",
       "  </tbody>\n",
       "</table>\n",
       "<p>5 rows × 23 columns</p>\n",
       "</div>"
      ],
      "text/plain": [
       "  class cap-shape cap-surface cap-color bruises odor gill-attachment  \\\n",
       "0     p         x           s         n       t    p               f   \n",
       "1     e         x           s         y       t    a               f   \n",
       "2     e         b           s         w       t    l               f   \n",
       "3     p         x           y         w       t    p               f   \n",
       "4     e         x           s         g       f    n               f   \n",
       "\n",
       "  gill-spacing gill-size gill-color  ... stalk-surface-below-ring  \\\n",
       "0            c         n          k  ...                        s   \n",
       "1            c         b          k  ...                        s   \n",
       "2            c         b          n  ...                        s   \n",
       "3            c         n          n  ...                        s   \n",
       "4            w         b          k  ...                        s   \n",
       "\n",
       "  stalk-color-above-ring stalk-color-below-ring veil-type veil-color  \\\n",
       "0                      w                      w         p          w   \n",
       "1                      w                      w         p          w   \n",
       "2                      w                      w         p          w   \n",
       "3                      w                      w         p          w   \n",
       "4                      w                      w         p          w   \n",
       "\n",
       "  ring-number ring-type spore-print-color population habitat  \n",
       "0           o         p                 k          s       u  \n",
       "1           o         p                 n          n       g  \n",
       "2           o         p                 n          n       m  \n",
       "3           o         p                 k          s       u  \n",
       "4           o         e                 n          a       g  \n",
       "\n",
       "[5 rows x 23 columns]"
      ]
     },
     "execution_count": 7,
     "metadata": {},
     "output_type": "execute_result"
    }
   ],
   "source": [
    "data = pd.read_csv(\"mushrooms.csv\"); data[:5]"
   ]
  },
  {
   "cell_type": "code",
   "execution_count": 8,
   "metadata": {},
   "outputs": [
    {
     "data": {
      "text/html": [
       "<div>\n",
       "<style scoped>\n",
       "    .dataframe tbody tr th:only-of-type {\n",
       "        vertical-align: middle;\n",
       "    }\n",
       "\n",
       "    .dataframe tbody tr th {\n",
       "        vertical-align: top;\n",
       "    }\n",
       "\n",
       "    .dataframe thead th {\n",
       "        text-align: right;\n",
       "    }\n",
       "</style>\n",
       "<table border=\"1\" class=\"dataframe\">\n",
       "  <thead>\n",
       "    <tr style=\"text-align: right;\">\n",
       "      <th></th>\n",
       "      <th>Periculosidade</th>\n",
       "      <th>Forma</th>\n",
       "      <th>Formato chapéu</th>\n",
       "      <th>Cor chapéu</th>\n",
       "      <th>Machucada</th>\n",
       "      <th>Odor</th>\n",
       "      <th>Ligação Branquea</th>\n",
       "      <th>Espaçamento Branquia</th>\n",
       "      <th>Tamanho Branquia</th>\n",
       "      <th>Cor Branquia</th>\n",
       "      <th>...</th>\n",
       "      <th>Stalk superficie embaixo do anel</th>\n",
       "      <th>Stalk cor emcima do anel</th>\n",
       "      <th>Stalk cor embaixo do anel</th>\n",
       "      <th>Veil tipo</th>\n",
       "      <th>Veil cor</th>\n",
       "      <th>Numero Anel</th>\n",
       "      <th>Tipo Anel</th>\n",
       "      <th>Cor poro</th>\n",
       "      <th>População</th>\n",
       "      <th>Habitat</th>\n",
       "    </tr>\n",
       "  </thead>\n",
       "  <tbody>\n",
       "    <tr>\n",
       "      <th>0</th>\n",
       "      <td>venenoso</td>\n",
       "      <td>Convex</td>\n",
       "      <td>smooth</td>\n",
       "      <td>Marrom</td>\n",
       "      <td>machucada</td>\n",
       "      <td>Pungent</td>\n",
       "      <td>Free</td>\n",
       "      <td>Close</td>\n",
       "      <td>Narrow</td>\n",
       "      <td>Black</td>\n",
       "      <td>...</td>\n",
       "      <td>Smooth</td>\n",
       "      <td>White</td>\n",
       "      <td>White</td>\n",
       "      <td>Partipial</td>\n",
       "      <td>White</td>\n",
       "      <td>one</td>\n",
       "      <td>Pendant</td>\n",
       "      <td>Black</td>\n",
       "      <td>Scattered</td>\n",
       "      <td>urbano</td>\n",
       "    </tr>\n",
       "    <tr>\n",
       "      <th>1</th>\n",
       "      <td>comestível</td>\n",
       "      <td>Convex</td>\n",
       "      <td>smooth</td>\n",
       "      <td>Amarelo</td>\n",
       "      <td>machucada</td>\n",
       "      <td>Almond</td>\n",
       "      <td>Free</td>\n",
       "      <td>Close</td>\n",
       "      <td>Broad</td>\n",
       "      <td>Black</td>\n",
       "      <td>...</td>\n",
       "      <td>Smooth</td>\n",
       "      <td>White</td>\n",
       "      <td>White</td>\n",
       "      <td>Partipial</td>\n",
       "      <td>White</td>\n",
       "      <td>one</td>\n",
       "      <td>Pendant</td>\n",
       "      <td>Brown</td>\n",
       "      <td>Numerous</td>\n",
       "      <td>grama</td>\n",
       "    </tr>\n",
       "    <tr>\n",
       "      <th>2</th>\n",
       "      <td>comestível</td>\n",
       "      <td>Bell</td>\n",
       "      <td>smooth</td>\n",
       "      <td>Branco</td>\n",
       "      <td>machucada</td>\n",
       "      <td>Anise</td>\n",
       "      <td>Free</td>\n",
       "      <td>Close</td>\n",
       "      <td>Broad</td>\n",
       "      <td>Brown</td>\n",
       "      <td>...</td>\n",
       "      <td>Smooth</td>\n",
       "      <td>White</td>\n",
       "      <td>White</td>\n",
       "      <td>Partipial</td>\n",
       "      <td>White</td>\n",
       "      <td>one</td>\n",
       "      <td>Pendant</td>\n",
       "      <td>Brown</td>\n",
       "      <td>Numerous</td>\n",
       "      <td>prados</td>\n",
       "    </tr>\n",
       "    <tr>\n",
       "      <th>3</th>\n",
       "      <td>venenoso</td>\n",
       "      <td>Convex</td>\n",
       "      <td>scaly</td>\n",
       "      <td>Branco</td>\n",
       "      <td>machucada</td>\n",
       "      <td>Pungent</td>\n",
       "      <td>Free</td>\n",
       "      <td>Close</td>\n",
       "      <td>Narrow</td>\n",
       "      <td>Brown</td>\n",
       "      <td>...</td>\n",
       "      <td>Smooth</td>\n",
       "      <td>White</td>\n",
       "      <td>White</td>\n",
       "      <td>Partipial</td>\n",
       "      <td>White</td>\n",
       "      <td>one</td>\n",
       "      <td>Pendant</td>\n",
       "      <td>Black</td>\n",
       "      <td>Scattered</td>\n",
       "      <td>urbano</td>\n",
       "    </tr>\n",
       "    <tr>\n",
       "      <th>4</th>\n",
       "      <td>comestível</td>\n",
       "      <td>Convex</td>\n",
       "      <td>smooth</td>\n",
       "      <td>Cinza</td>\n",
       "      <td>nao machucada</td>\n",
       "      <td>none</td>\n",
       "      <td>Free</td>\n",
       "      <td>Crowded</td>\n",
       "      <td>Broad</td>\n",
       "      <td>Black</td>\n",
       "      <td>...</td>\n",
       "      <td>Smooth</td>\n",
       "      <td>White</td>\n",
       "      <td>White</td>\n",
       "      <td>Partipial</td>\n",
       "      <td>White</td>\n",
       "      <td>one</td>\n",
       "      <td>Evanescent</td>\n",
       "      <td>Brown</td>\n",
       "      <td>Abundant</td>\n",
       "      <td>grama</td>\n",
       "    </tr>\n",
       "  </tbody>\n",
       "</table>\n",
       "<p>5 rows × 23 columns</p>\n",
       "</div>"
      ],
      "text/plain": [
       "  Periculosidade   Forma Formato chapéu Cor chapéu      Machucada     Odor  \\\n",
       "0       venenoso  Convex         smooth     Marrom      machucada  Pungent   \n",
       "1     comestível  Convex         smooth    Amarelo      machucada   Almond   \n",
       "2     comestível    Bell         smooth     Branco      machucada    Anise   \n",
       "3       venenoso  Convex          scaly     Branco      machucada  Pungent   \n",
       "4     comestível  Convex         smooth      Cinza  nao machucada     none   \n",
       "\n",
       "  Ligação Branquea Espaçamento Branquia Tamanho Branquia Cor Branquia  ...  \\\n",
       "0             Free                Close           Narrow        Black  ...   \n",
       "1             Free                Close            Broad        Black  ...   \n",
       "2             Free                Close            Broad        Brown  ...   \n",
       "3             Free                Close           Narrow        Brown  ...   \n",
       "4             Free              Crowded            Broad        Black  ...   \n",
       "\n",
       "  Stalk superficie embaixo do anel Stalk cor emcima do anel  \\\n",
       "0                           Smooth                    White   \n",
       "1                           Smooth                    White   \n",
       "2                           Smooth                    White   \n",
       "3                           Smooth                    White   \n",
       "4                           Smooth                    White   \n",
       "\n",
       "  Stalk cor embaixo do anel  Veil tipo Veil cor Numero Anel   Tipo Anel  \\\n",
       "0                     White  Partipial    White         one     Pendant   \n",
       "1                     White  Partipial    White         one     Pendant   \n",
       "2                     White  Partipial    White         one     Pendant   \n",
       "3                     White  Partipial    White         one     Pendant   \n",
       "4                     White  Partipial    White         one  Evanescent   \n",
       "\n",
       "  Cor poro  População Habitat  \n",
       "0    Black  Scattered  urbano  \n",
       "1    Brown   Numerous   grama  \n",
       "2    Brown   Numerous  prados  \n",
       "3    Black  Scattered  urbano  \n",
       "4    Brown   Abundant   grama  \n",
       "\n",
       "[5 rows x 23 columns]"
      ]
     },
     "execution_count": 8,
     "metadata": {},
     "output_type": "execute_result"
    }
   ],
   "source": [
    "Limpeza(); data[:5] "
   ]
  },
  {
   "cell_type": "markdown",
   "metadata": {},
   "source": [
    "\n",
    "### Características"
   ]
  },
  {
   "cell_type": "markdown",
   "metadata": {},
   "source": [
    "#### Quantidade dos cogumelos do dataset para cada tipo de classe"
   ]
  },
  {
   "cell_type": "code",
   "execution_count": 9,
   "metadata": {},
   "outputs": [
    {
     "data": {
      "image/png": "[encoded data removed]",
      "text/plain": [
       "<Figure size 432x288 with 1 Axes>"
      ]
     },
     "metadata": {
      "needs_background": "light"
     },
     "output_type": "display_data"
    }
   ],
   "source": [
    "periculosidade = data[\"Periculosidade\"].value_counts(True)\n",
    "plt.bar(periculosidade.index, periculosidade, color=[\"g\",\"r\"]);"
   ]
  },
  {
   "cell_type": "markdown",
   "metadata": {},
   "source": [
    "#### Quantidade dos cogumelos do dataset para cada tipo de habitat"
   ]
  },
  {
   "cell_type": "code",
   "execution_count": 10,
   "metadata": {},
   "outputs": [
    {
     "data": {
      "image/png": "[encoded data removed]",
      "text/plain": [
       "<Figure size 432x288 with 1 Axes>"
      ]
     },
     "metadata": {
      "needs_background": "light"
     },
     "output_type": "display_data"
    }
   ],
   "source": [
    "habitat = data[\"Habitat\"].value_counts(True);\n",
    "plt.bar(habitat.index, habitat, color=\"#000080\");"
   ]
  },
  {
   "cell_type": "markdown",
   "metadata": {},
   "source": [
    "#### Quantidade dos cogumelos do dataset para cada tipo de forma"
   ]
  },
  {
   "cell_type": "code",
   "execution_count": 11,
   "metadata": {},
   "outputs": [
    {
     "data": {
      "image/png": "[encoded data removed]",
      "text/plain": [
       "<Figure size 432x288 with 1 Axes>"
      ]
     },
     "metadata": {
      "needs_background": "light"
     },
     "output_type": "display_data"
    }
   ],
   "source": [
    "forma = data['Forma'].value_counts(True);\n",
    "plt.bar(forma.index, forma, color=\"#000080\");"
   ]
  },
  {
   "cell_type": "markdown",
   "metadata": {},
   "source": [
    "#### Quantidade dos cogumelos venenosos e comestíveis do para cor do chapéu\n"
   ]
  },
  {
   "cell_type": "code",
   "execution_count": 12,
   "metadata": {},
   "outputs": [],
   "source": [
    "#Metódo obtido a partir do Kaggle dentro da área de kernels do nosso dataset"
   ]
  },
  {
   "cell_type": "code",
   "execution_count": 13,
   "metadata": {},
   "outputs": [],
   "source": [
    "#Obtain total number of mushrooms for each 'cap-color' (Entire DataFrame)\n",
    "cap_colors = data['Cor chapéu'].value_counts()\n",
    "m_height = cap_colors.values.tolist() #Provides numerical values\n",
    "cap_colors.axes #Provides row labels\n",
    "cap_color_labels = cap_colors.axes[0].tolist() #Converts index object to list"
   ]
  },
  {
   "cell_type": "code",
   "execution_count": 14,
   "metadata": {},
   "outputs": [
    {
     "data": {
      "image/png": "[encoded data removed]",
      "text/plain": [
       "<Figure size 864x504 with 1 Axes>"
      ]
     },
     "metadata": {
      "needs_background": "light"
     },
     "output_type": "display_data"
    },
    {
     "name": "stdout",
     "output_type": "stream",
     "text": [
      "[1264, 1032, 624, 400, 720, 48, 56, 32, 16, 16]\n",
      "[1020, 808, 876, 672, 320, 120, 88, 12, 0, 0]\n"
     ]
    }
   ],
   "source": [
    "poisonous_cc = [] #Poisonous color cap list\n",
    "edible_cc = []    #Edible color cap list\n",
    "for capColor in cap_color_labels:\n",
    "    size = len(data[data['Cor chapéu'] == capColor].index)\n",
    "    edibles = len(data[(data['Cor chapéu'] == capColor) & (data['Periculosidade'] == 'comestível')].index)\n",
    "    edible_cc.append(edibles)\n",
    "    poisonous_cc.append(size-edibles)\n",
    "                        \n",
    "#=====PLOT Preparations and Plotting====#\n",
    "ind = np.arange(10)  # the x locations for the groups\n",
    "width = 0.40\n",
    "fig, ax = plt.subplots(figsize=(12,7))\n",
    "edible_bars = ax.bar(ind, edible_cc , width, color='#ADFF2F')\n",
    "poison_bars = ax.bar(ind+width, poisonous_cc , width, color='#DA70D6')\n",
    "\n",
    "#Add some text for labels, title and axes ticks\n",
    "ax.set_xlabel(\"Cap Color\",fontsize=20)\n",
    "ax.set_ylabel('Quantity',fontsize=20)\n",
    "ax.set_title('Edible and Poisonous Mushrooms Based on Cap Color',fontsize=22)\n",
    "ax.set_xticks(ind + width / 2) #Positioning on the x axis\n",
    "ax.set_xticklabels(('brown', 'gray','red','yellow','white','buff','pink','cinnamon','purple','green'),\n",
    "                  fontsize = 12)\n",
    "ax.legend((edible_bars,poison_bars),('edible','poisonous'),fontsize=17)\n",
    "plt.show()\n",
    "print(edible_cc)\n",
    "print(poisonous_cc)"
   ]
  },
  {
   "cell_type": "code",
   "execution_count": 15,
   "metadata": {},
   "outputs": [
    {
     "data": {
      "image/png": "[encoded data removed]",
      "text/plain": [
       "<Figure size 1296x648 with 4 Axes>"
      ]
     },
     "metadata": {
      "needs_background": "light"
     },
     "output_type": "display_data"
    }
   ],
   "source": [
    "colunas = list(renomeador.keys())\n",
    "\n",
    "Venenoso = data[data['Periculosidade']=='venenoso'][colunas[3]].value_counts()\n",
    "Comestivel = data[data['Periculosidade']=='comestível'][colunas[3]].value_counts()\n",
    "\n",
    "plt.figure(figsize=(18,9))\n",
    "\n",
    "plt.subplot(2,2,1)\n",
    "plt.bar( np.arange(len(Comestivel)), Comestivel.values.tolist(), width=.25)\n",
    "plt.bar( np.arange(len(Venenoso)) + [.25]*len(Venenoso), Venenoso.values.tolist(), width=.25)\n",
    "plt.xticks(np.arange(10)+10*[0.125],Venenoso.axes[0].tolist());\n",
    "\n",
    "plt.subplot(2,2,2)\n",
    "plt.bar( np.arange(len(Comestivel)), Comestivel.values.tolist(), width=.25)\n",
    "plt.bar( np.arange(len(Venenoso)) + [.25]*len(Venenoso), Venenoso.values.tolist(), width=.25)\n",
    "plt.xticks(np.arange(10)+10*[0.125],Venenoso.axes[0].tolist());\n",
    "\n",
    "plt.subplot(2,2,3)\n",
    "plt.bar( np.arange(len(Comestivel)), Comestivel.values.tolist(), width=.25)\n",
    "plt.bar( np.arange(len(Venenoso)) + [.25]*len(Venenoso), Venenoso.values.tolist(), width=.25)\n",
    "plt.xticks(np.arange(10)+10*[0.125],Venenoso.axes[0].tolist());\n",
    "\n",
    "plt.subplot(2,2,4)\n",
    "plt.bar( np.arange(len(Comestivel)), Comestivel.values.tolist(), width=.25)\n",
    "plt.bar( np.arange(len(Venenoso)) + [.25]*len(Venenoso), Venenoso.values.tolist(), width=.25)\n",
    "plt.xticks(np.arange(10)+10*[0.125],Venenoso.axes[0].tolist());"
   ]
  },
  {
   "cell_type": "code",
   "execution_count": 16,
   "metadata": {},
   "outputs": [
    {
     "data": {
      "image/png": "[encoded data removed]",
      "text/plain": [
       "<Figure size 720x360 with 1 Axes>"
      ]
     },
     "metadata": {
      "needs_background": "light"
     },
     "output_type": "display_data"
    },
    {
     "data": {
      "image/png": "[encoded data removed]",
      "text/plain": [
       "<Figure size 720x360 with 1 Axes>"
      ]
     },
     "metadata": {
      "needs_background": "light"
     },
     "output_type": "display_data"
    },
    {
     "data": {
      "image/png": "[encoded data removed]",
      "text/plain": [
       "<Figure size 720x360 with 1 Axes>"
      ]
     },
     "metadata": {
      "needs_background": "light"
     },
     "output_type": "display_data"
    },
    {
     "data": {
      "image/png": "[encoded data removed]",
      "text/plain": [
       "<Figure size 720x360 with 1 Axes>"
      ]
     },
     "metadata": {
      "needs_background": "light"
     },
     "output_type": "display_data"
    },
    {
     "data": {
      "image/png": "[encoded data removed]",
      "text/plain": [
       "<Figure size 720x360 with 1 Axes>"
      ]
     },
     "metadata": {
      "needs_background": "light"
     },
     "output_type": "display_data"
    }
   ],
   "source": [
    "for i in range(5):\n",
    "    \n",
    "    plt.figure(figsize=(10,5))\n",
    "    \n",
    "    Venenoso = data[data['Periculosidade']=='venenoso'][colunas[i]].value_counts()\n",
    "    Comestivel = data[data['Periculosidade']=='comestível'][colunas[i]].value_counts()\n",
    "\n",
    "    plt.bar( np.arange(len(Comestivel)), Comestivel.values.tolist(), width=.25)\n",
    "\n",
    "    plt.bar( np.arange(len(Venenoso)) + [.25]*len(Venenoso), Venenoso.values.tolist(), width=.25)\n",
    "\n",
    "    plt.xticks(np.arange(len(Venenoso)) + len(Venenoso)*[0.125],Venenoso.axes[0].tolist())\n",
    "\n",
    "plt.show()"
   ]
  },
  {
   "cell_type": "markdown",
   "metadata": {},
   "source": [
    "### Previsoes do classificador"
   ]
  },
  {
   "cell_type": "code",
   "execution_count": 17,
   "metadata": {},
   "outputs": [],
   "source": [
    "# Método encontrado na internet/ busca na área de Kernels do dataset no Kaagle\n",
    "from sklearn.preprocessing import LabelEncoder\n",
    "labelencoder=LabelEncoder()\n",
    "for col in data.columns:\n",
    "    data[col] = labelencoder.fit_transform(data[col])"
   ]
  },
  {
   "cell_type": "code",
   "execution_count": 18,
   "metadata": {},
   "outputs": [
    {
     "data": {
      "text/plain": [
       "array([5, 1, 4, 2, 3, 6, 0])"
      ]
     },
     "execution_count": 18,
     "metadata": {},
     "output_type": "execute_result"
    }
   ],
   "source": [
    "data['Habitat'].unique()"
   ]
  },
  {
   "cell_type": "code",
   "execution_count": 19,
   "metadata": {},
   "outputs": [
    {
     "data": {
      "text/html": [
       "<div>\n",
       "<style scoped>\n",
       "    .dataframe tbody tr th:only-of-type {\n",
       "        vertical-align: middle;\n",
       "    }\n",
       "\n",
       "    .dataframe tbody tr th {\n",
       "        vertical-align: top;\n",
       "    }\n",
       "\n",
       "    .dataframe thead th {\n",
       "        text-align: right;\n",
       "    }\n",
       "</style>\n",
       "<table border=\"1\" class=\"dataframe\">\n",
       "  <thead>\n",
       "    <tr style=\"text-align: right;\">\n",
       "      <th></th>\n",
       "      <th>Periculosidade</th>\n",
       "      <th>Forma</th>\n",
       "      <th>Formato chapéu</th>\n",
       "      <th>Cor chapéu</th>\n",
       "      <th>Machucada</th>\n",
       "      <th>Odor</th>\n",
       "      <th>Ligação Branquea</th>\n",
       "      <th>Espaçamento Branquia</th>\n",
       "      <th>Tamanho Branquia</th>\n",
       "      <th>Cor Branquia</th>\n",
       "      <th>...</th>\n",
       "      <th>Stalk superficie embaixo do anel</th>\n",
       "      <th>Stalk cor emcima do anel</th>\n",
       "      <th>Stalk cor embaixo do anel</th>\n",
       "      <th>Veil tipo</th>\n",
       "      <th>Veil cor</th>\n",
       "      <th>Numero Anel</th>\n",
       "      <th>Tipo Anel</th>\n",
       "      <th>Cor poro</th>\n",
       "      <th>População</th>\n",
       "      <th>Habitat</th>\n",
       "    </tr>\n",
       "  </thead>\n",
       "  <tbody>\n",
       "    <tr>\n",
       "      <th>0</th>\n",
       "      <td>1</td>\n",
       "      <td>2</td>\n",
       "      <td>3</td>\n",
       "      <td>5</td>\n",
       "      <td>0</td>\n",
       "      <td>6</td>\n",
       "      <td>1</td>\n",
       "      <td>0</td>\n",
       "      <td>1</td>\n",
       "      <td>0</td>\n",
       "      <td>...</td>\n",
       "      <td>3</td>\n",
       "      <td>6</td>\n",
       "      <td>6</td>\n",
       "      <td>0</td>\n",
       "      <td>2</td>\n",
       "      <td>1</td>\n",
       "      <td>4</td>\n",
       "      <td>0</td>\n",
       "      <td>3</td>\n",
       "      <td>5</td>\n",
       "    </tr>\n",
       "    <tr>\n",
       "      <th>1</th>\n",
       "      <td>0</td>\n",
       "      <td>2</td>\n",
       "      <td>3</td>\n",
       "      <td>0</td>\n",
       "      <td>0</td>\n",
       "      <td>0</td>\n",
       "      <td>1</td>\n",
       "      <td>0</td>\n",
       "      <td>0</td>\n",
       "      <td>0</td>\n",
       "      <td>...</td>\n",
       "      <td>3</td>\n",
       "      <td>6</td>\n",
       "      <td>6</td>\n",
       "      <td>0</td>\n",
       "      <td>2</td>\n",
       "      <td>1</td>\n",
       "      <td>4</td>\n",
       "      <td>1</td>\n",
       "      <td>2</td>\n",
       "      <td>1</td>\n",
       "    </tr>\n",
       "    <tr>\n",
       "      <th>2</th>\n",
       "      <td>0</td>\n",
       "      <td>0</td>\n",
       "      <td>3</td>\n",
       "      <td>1</td>\n",
       "      <td>0</td>\n",
       "      <td>1</td>\n",
       "      <td>1</td>\n",
       "      <td>0</td>\n",
       "      <td>0</td>\n",
       "      <td>1</td>\n",
       "      <td>...</td>\n",
       "      <td>3</td>\n",
       "      <td>6</td>\n",
       "      <td>6</td>\n",
       "      <td>0</td>\n",
       "      <td>2</td>\n",
       "      <td>1</td>\n",
       "      <td>4</td>\n",
       "      <td>1</td>\n",
       "      <td>2</td>\n",
       "      <td>4</td>\n",
       "    </tr>\n",
       "    <tr>\n",
       "      <th>3</th>\n",
       "      <td>1</td>\n",
       "      <td>2</td>\n",
       "      <td>2</td>\n",
       "      <td>1</td>\n",
       "      <td>0</td>\n",
       "      <td>6</td>\n",
       "      <td>1</td>\n",
       "      <td>0</td>\n",
       "      <td>1</td>\n",
       "      <td>1</td>\n",
       "      <td>...</td>\n",
       "      <td>3</td>\n",
       "      <td>6</td>\n",
       "      <td>6</td>\n",
       "      <td>0</td>\n",
       "      <td>2</td>\n",
       "      <td>1</td>\n",
       "      <td>4</td>\n",
       "      <td>0</td>\n",
       "      <td>3</td>\n",
       "      <td>5</td>\n",
       "    </tr>\n",
       "    <tr>\n",
       "      <th>4</th>\n",
       "      <td>0</td>\n",
       "      <td>2</td>\n",
       "      <td>3</td>\n",
       "      <td>4</td>\n",
       "      <td>1</td>\n",
       "      <td>8</td>\n",
       "      <td>1</td>\n",
       "      <td>1</td>\n",
       "      <td>0</td>\n",
       "      <td>0</td>\n",
       "      <td>...</td>\n",
       "      <td>3</td>\n",
       "      <td>6</td>\n",
       "      <td>6</td>\n",
       "      <td>0</td>\n",
       "      <td>2</td>\n",
       "      <td>1</td>\n",
       "      <td>0</td>\n",
       "      <td>1</td>\n",
       "      <td>0</td>\n",
       "      <td>1</td>\n",
       "    </tr>\n",
       "  </tbody>\n",
       "</table>\n",
       "<p>5 rows × 23 columns</p>\n",
       "</div>"
      ],
      "text/plain": [
       "   Periculosidade  Forma  Formato chapéu  Cor chapéu  Machucada  Odor  \\\n",
       "0               1      2               3           5          0     6   \n",
       "1               0      2               3           0          0     0   \n",
       "2               0      0               3           1          0     1   \n",
       "3               1      2               2           1          0     6   \n",
       "4               0      2               3           4          1     8   \n",
       "\n",
       "   Ligação Branquea  Espaçamento Branquia  Tamanho Branquia  Cor Branquia  \\\n",
       "0                 1                     0                 1             0   \n",
       "1                 1                     0                 0             0   \n",
       "2                 1                     0                 0             1   \n",
       "3                 1                     0                 1             1   \n",
       "4                 1                     1                 0             0   \n",
       "\n",
       "   ...  Stalk superficie embaixo do anel  Stalk cor emcima do anel  \\\n",
       "0  ...                                 3                         6   \n",
       "1  ...                                 3                         6   \n",
       "2  ...                                 3                         6   \n",
       "3  ...                                 3                         6   \n",
       "4  ...                                 3                         6   \n",
       "\n",
       "   Stalk cor embaixo do anel  Veil tipo  Veil cor  Numero Anel  Tipo Anel  \\\n",
       "0                          6          0         2            1          4   \n",
       "1                          6          0         2            1          4   \n",
       "2                          6          0         2            1          4   \n",
       "3                          6          0         2            1          4   \n",
       "4                          6          0         2            1          0   \n",
       "\n",
       "   Cor poro  População  Habitat  \n",
       "0         0          3        5  \n",
       "1         1          2        1  \n",
       "2         1          2        4  \n",
       "3         0          3        5  \n",
       "4         1          0        1  \n",
       "\n",
       "[5 rows x 23 columns]"
      ]
     },
     "execution_count": 19,
     "metadata": {},
     "output_type": "execute_result"
    }
   ],
   "source": [
    "data[:5]"
   ]
  },
  {
   "cell_type": "code",
   "execution_count": 20,
   "metadata": {},
   "outputs": [],
   "source": [
    "# características dos animais para o teste;\n",
    "inputs = data.drop(columns=[\"Periculosidade\"])\n",
    "# resultado esperado;\n",
    "target = data[\"Periculosidade\"]\n",
    "#separando dataframes teste e treino\n",
    "X_treino,X_teste,Y_treino,Y_teste=tts(inputs,target,test_size=0.8)"
   ]
  },
  {
   "cell_type": "markdown",
   "metadata": {},
   "source": [
    "#### Decision Tree"
   ]
  },
  {
   "cell_type": "code",
   "execution_count": 21,
   "metadata": {},
   "outputs": [
    {
     "name": "stdout",
     "output_type": "stream",
     "text": [
      "\n",
      "\n",
      "Numero de acertos: 6500\n",
      "Número de erros: 0\n",
      "Porcentagem de acertos: 100.00%\n"
     ]
    },
    {
     "data": {
      "image/png": "[encoded data removed]",
      "text/plain": [
       "<Figure size 432x288 with 1 Axes>"
      ]
     },
     "metadata": {},
     "output_type": "display_data"
    }
   ],
   "source": [
    "Previsão(DecisionTree,0)"
   ]
  },
  {
   "cell_type": "markdown",
   "metadata": {},
   "source": [
    "#### Logistic Regression"
   ]
  },
  {
   "cell_type": "code",
   "execution_count": 22,
   "metadata": {
    "scrolled": true
   },
   "outputs": [
    {
     "name": "stdout",
     "output_type": "stream",
     "text": [
      "\n",
      "\n",
      "Numero de acertos: 6177\n",
      "Número de erros: 323\n",
      "Porcentagem de acertos: 95.03%\n"
     ]
    },
    {
     "data": {
      "image/png": "[encoded data removed]",
      "text/plain": [
       "<Figure size 432x288 with 1 Axes>"
      ]
     },
     "metadata": {},
     "output_type": "display_data"
    }
   ],
   "source": [
    "Previsão(LogisticRegression,0,logistica=True);"
   ]
  },
  {
   "cell_type": "markdown",
   "metadata": {},
   "source": [
    "#### NB Bernoulli"
   ]
  },
  {
   "cell_type": "code",
   "execution_count": 23,
   "metadata": {
    "scrolled": true
   },
   "outputs": [
    {
     "name": "stdout",
     "output_type": "stream",
     "text": [
      "\n",
      "\n",
      "Numero de acertos: 5844\n",
      "Número de erros: 656\n",
      "Porcentagem de acertos: 89.91%\n"
     ]
    },
    {
     "data": {
      "image/png": "[encoded data removed]",
      "text/plain": [
       "<Figure size 432x288 with 1 Axes>"
      ]
     },
     "metadata": {},
     "output_type": "display_data"
    }
   ],
   "source": [
    "Previsão(BernoulliNB,0)"
   ]
  },
  {
   "cell_type": "markdown",
   "metadata": {},
   "source": [
    "#### NB Gaussian"
   ]
  },
  {
   "cell_type": "code",
   "execution_count": 24,
   "metadata": {},
   "outputs": [
    {
     "name": "stdout",
     "output_type": "stream",
     "text": [
      "\n",
      "\n",
      "Numero de acertos: 4434\n",
      "Número de erros: 2066\n",
      "Porcentagem de acertos: 68.22%\n"
     ]
    },
    {
     "data": {
      "image/png": "[encoded data removed]",
      "text/plain": [
       "<Figure size 432x288 with 1 Axes>"
      ]
     },
     "metadata": {},
     "output_type": "display_data"
    }
   ],
   "source": [
    "Previsão(GaussianNB,0)"
   ]
  }
 ],
 "metadata": {
  "kernelspec": {
   "display_name": "Python 3",
   "language": "python",
   "name": "python3"
  },
  "language_info": {
   "codemirror_mode": {
    "name": "ipython",
    "version": 3
   },
   "file_extension": ".py",
   "mimetype": "text/x-python",
   "name": "python",
   "nbconvert_exporter": "python",
   "pygments_lexer": "ipython3",
   "version": "3.8.1"
  }
 },
 "nbformat": 4,
 "nbformat_minor": 2
}
