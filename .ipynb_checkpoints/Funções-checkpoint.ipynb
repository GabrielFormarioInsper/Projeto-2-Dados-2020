{
 "cells": [
  {
   "cell_type": "code",
   "execution_count": 1,
   "metadata": {},
   "outputs": [],
   "source": [
    "import matplotlib.pyplot as plt\n",
    "import pandas as pd\n",
    "import numpy as np"
   ]
  },
  {
   "cell_type": "code",
   "execution_count": 2,
   "metadata": {},
   "outputs": [],
   "source": [
    "import json\n",
    "with open('Renomeador.json', encoding=\"utf-8\") as json_file: \n",
    "    renomeador = json.load(json_file)"
   ]
  },
  {
   "cell_type": "code",
   "execution_count": 3,
   "metadata": {},
   "outputs": [],
   "source": [
    "def Limpeza(data):\n",
    "    i = 0\n",
    "    for nomeClasse,listaValores in renomeador.items():\n",
    "        data.rename(columns={data.columns[i]:nomeClasse}, inplace=True)\n",
    "        data[nomeClasse].replace(listaValores, inplace=True)\n",
    "        i += 1"
   ]
  },
  {
   "cell_type": "code",
   "execution_count": 4,
   "metadata": {},
   "outputs": [],
   "source": [
    "def Grafico_por_caracteristica(intervalo,data):\n",
    "\n",
    "    colunas = list(renomeador.keys())\n",
    "\n",
    "    for i in intervalo:\n",
    "\n",
    "        plt.figure(figsize=(10,5))\n",
    "\n",
    "        Venenoso = data[data['Periculosidade']=='venenoso'][colunas[i]].value_counts(True)*100\n",
    "        Comestivel = data[data['Periculosidade']=='comestível'][colunas[i]].value_counts(True)*100\n",
    "\n",
    "        plt.bar( np.arange(len(Comestivel)), Comestivel.values.tolist(), width=.25, color=\"g\")\n",
    "\n",
    "        plt.bar( np.arange(len(Venenoso)) + [.25]*len(Venenoso), Venenoso.values.tolist(), width=.25, color=\"r\")\n",
    "\n",
    "        plt.xticks(np.arange(len(Venenoso)) + len(Venenoso)*[0.125],Venenoso.axes[0].tolist())\n",
    "\n",
    "        plt.ylabel(\"Percentual\"); plt.xlabel(\"Características\"); plt.title(colunas[i])\n",
    "        \n",
    "        plt.legend(['Comestível','Venenoso'],title=\"Periculosidade\")\n",
    "\n",
    "    plt.show()"
   ]
  },
  {
   "cell_type": "code",
   "execution_count": 5,
   "metadata": {},
   "outputs": [],
   "source": [
    "def Previsão(tipo,logistica=False):\n",
    "    \n",
    "    if logistica:\n",
    "        model = tipo(solver='lbfgs',multi_class='auto',max_iter=1000)\n",
    "    else:\n",
    "        model = tipo()\n",
    "    \n",
    "    model.fit(X_treino,Y_treino);\n",
    "    \n",
    "    model.score(X_teste,Y_teste);\n",
    "    \n",
    "    Y_predict = model.predict(X_teste)\n",
    "    \n",
    "    acertos=0\n",
    "    for i in range(len(X_teste)):\n",
    "        \n",
    "        if Y_predict[i]==Y_teste.iloc[i]:\n",
    "            acertos+=1    \n",
    "        #else:\n",
    "         #   print('Error',data.iloc[X_teste.index])\n",
    "                    \n",
    "    print()\n",
    "\n",
    "    print()\n",
    "    \n",
    "    print('Numero de acertos:',acertos)\n",
    "    \n",
    "    erros = len(X_teste)-acertos\n",
    "    print('Número de erros:',erros)\n",
    "    \n",
    "    print('Porcentagem de acertos: {:.2f}%'.format(acertos/len(X_teste)*100) )\n",
    "    \n",
    "    classif = [\"acertos\",\"erros\"]\n",
    "\n",
    "    plt.bar( classif[0], acertos,color='g')\n",
    "\n",
    "    plt.bar( classif[1] , erros,color='r')\n",
    "    \n",
    "    plt.xticks(classif);\n",
    "    \n",
    "    plt.show()\n",
    "    \n",
    "    return erros,acertos"
   ]
  },
  {
   "cell_type": "code",
   "execution_count": null,
   "metadata": {},
   "outputs": [],
   "source": []
  }
 ],
 "metadata": {
  "kernelspec": {
   "display_name": "Python 3",
   "language": "python",
   "name": "python3"
  },
  "language_info": {
   "codemirror_mode": {
    "name": "ipython",
    "version": 3
   },
   "file_extension": ".py",
   "mimetype": "text/x-python",
   "name": "python",
   "nbconvert_exporter": "python",
   "pygments_lexer": "ipython3",
   "version": "3.7.1"
  }
 },
 "nbformat": 4,
 "nbformat_minor": 4
}
