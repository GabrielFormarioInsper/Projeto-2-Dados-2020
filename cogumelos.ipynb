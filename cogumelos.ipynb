{
 "cells": [
  {
   "cell_type": "code",
   "execution_count": 21,
   "metadata": {},
   "outputs": [],
   "source": [
    "renomeador = {\n",
    "    \"Periculosidade\": {\"p\": \"venenoso\", \"e\": \"comestível\"},\n",
    "    \"Forma\": {\"b\":\"Bell\", \"c\":\"Conical\", \"x\":\"Convex\",\"f\":\"Flat\", \"k\":\"Knobbed\", \"s\":\"Sunken\"},\n",
    "    \"Formato chapéu\": {\"f\": \"fibrous\", \"g\": \"grooves\", \"y\": \"scaly\", \"s\": \"smooth\"},\n",
    "    \"Cor chapéu\": {\"n\":\"Marrom\", \"b\":\"Buff\", \"c\":\"Cinanamon\",\"g\":\"Cinza\", \"r\":\"Verde\", \"p\":\"Rosa\", \"u\":\"Roxo\", \"e\":\"Vermelho\", \"w\":\"Branco\",\"y\":\"Amarelo\"},\n",
    "    \"Machucada\": {\"p\": \"venenoso\", \"e\": \"comestível\"},\n",
    "    \"Odor\": {\"p\": \"venenoso\", \"e\": \"comestível\"},\n",
    "    \"Ligação Branquea\": {\"p\": \"venenoso\", \"e\": \"comestível\"},\n",
    "    \"Espaçamento Branquia\": {\"p\": \"venenoso\", \"e\": \"comestível\"},\n",
    "    \"Tamanho Branquia\": {\"p\": \"venenoso\", \"e\": \"comestível\"},\n",
    "    \"Cor Branquia\": {\"p\": \"venenoso\", \"e\": \"comestível\"},\n",
    "    \"Stalk forma\": {\"p\": \"venenoso\", \"e\": \"comestível\"},\n",
    "    \"Stalk raiz\": {\"p\": \"venenoso\", \"e\": \"comestível\"},\n",
    "    \"Stalk superficie emcima do anel\": {\"p\": \"venenoso\", \"e\": \"comestível\"},\n",
    "    \"Stalk superficie embaixo do anel\": {\"x\": \"venenoso\", \"e\": \"comestível\"},\n",
    "    \"Stalk cor emcima do anel\": {\"p\": \"venenoso\", \"e\": \"comestível\"},\n",
    "    \"Stalk cor embaixo do anel\": {\"p\": \"venenoso\", \"e\": \"comestível\"},\n",
    "    \"Veil tipo\": {\"p\": \"venenoso\", \"e\": \"comestível\"},\n",
    "    \"Veil cor\": {\"p\": \"venenoso\", \"e\": \"comestível\"},\n",
    "    \"Numero Anel\": {\"p\": \"venenoso\", \"e\": \"comestível\"},\n",
    "    \"Tipo Anel\": {\"p\": \"venenoso\", \"e\": \"comestível\"},\n",
    "    \"Cor poro\": {\"p\": \"venenoso\", \"e\": \"comestível\"},\n",
    "    \"População\": {\"p\": \"venenoso\", \"e\": \"comestível\"},\n",
    "    \"Habitat\": {\"g\":\"grama\",\"l\":\"folhas\",\"m\":\"prados\",\"p\":\"paths\",\"u\":\"urbano\",\"w\":\"waste\",\"d\":\"madeira\"},\n",
    "}\n"
   ]
  },
  {
   "cell_type": "code",
   "execution_count": 22,
   "metadata": {},
   "outputs": [],
   "source": [
    "def Limpeza():\n",
    "    i = 0\n",
    "    for nomeClasse,listaValores in renomeador.items():\n",
    "        data.rename(columns={data.columns[i]:nomeClasse}, inplace=True)\n",
    "        data[nomeClasse].replace(listaValores, inplace=True)\n",
    "        i += 1\n",
    "    print(i)"
   ]
  },
  {
   "cell_type": "markdown",
   "metadata": {},
   "source": [
    "## Projeto 2 Ciência dos Dados 2020.1\n",
    "___\n",
    "- Daniel Gurgel Terra\n",
    "- Gabriel Formario\n",
    "___"
   ]
  },
  {
   "cell_type": "markdown",
   "metadata": {},
   "source": [
    "- Quais tipos de machine learning têm melhor desempenho nesse conjunto de dados?\n",
    "\n",
    "- Quais características são mais indicativas de um cogumelo venenoso?\n",
    "\n",
    "-obs : nao sao as perguntas que serao respondidas, sao apenas ideias/inspiracoes para a formulacao de um objetivo do proejto"
   ]
  },
  {
   "cell_type": "code",
   "execution_count": 23,
   "metadata": {},
   "outputs": [],
   "source": [
    "import matplotlib.pyplot as plt\n",
    "import pandas as pd\n",
    "import numpy as np"
   ]
  },
  {
   "cell_type": "markdown",
   "metadata": {},
   "source": [
    "### Limpeza de Dados"
   ]
  },
  {
   "cell_type": "code",
   "execution_count": 24,
   "metadata": {},
   "outputs": [
    {
     "data": {
      "text/html": [
       "<div>\n",
       "<style scoped>\n",
       "    .dataframe tbody tr th:only-of-type {\n",
       "        vertical-align: middle;\n",
       "    }\n",
       "\n",
       "    .dataframe tbody tr th {\n",
       "        vertical-align: top;\n",
       "    }\n",
       "\n",
       "    .dataframe thead th {\n",
       "        text-align: right;\n",
       "    }\n",
       "</style>\n",
       "<table border=\"1\" class=\"dataframe\">\n",
       "  <thead>\n",
       "    <tr style=\"text-align: right;\">\n",
       "      <th></th>\n",
       "      <th>class</th>\n",
       "      <th>cap-shape</th>\n",
       "      <th>cap-surface</th>\n",
       "      <th>cap-color</th>\n",
       "      <th>bruises</th>\n",
       "      <th>odor</th>\n",
       "      <th>gill-attachment</th>\n",
       "      <th>gill-spacing</th>\n",
       "      <th>gill-size</th>\n",
       "      <th>gill-color</th>\n",
       "      <th>...</th>\n",
       "      <th>stalk-surface-below-ring</th>\n",
       "      <th>stalk-color-above-ring</th>\n",
       "      <th>stalk-color-below-ring</th>\n",
       "      <th>veil-type</th>\n",
       "      <th>veil-color</th>\n",
       "      <th>ring-number</th>\n",
       "      <th>ring-type</th>\n",
       "      <th>spore-print-color</th>\n",
       "      <th>population</th>\n",
       "      <th>habitat</th>\n",
       "    </tr>\n",
       "  </thead>\n",
       "  <tbody>\n",
       "    <tr>\n",
       "      <th>0</th>\n",
       "      <td>p</td>\n",
       "      <td>x</td>\n",
       "      <td>s</td>\n",
       "      <td>n</td>\n",
       "      <td>t</td>\n",
       "      <td>p</td>\n",
       "      <td>f</td>\n",
       "      <td>c</td>\n",
       "      <td>n</td>\n",
       "      <td>k</td>\n",
       "      <td>...</td>\n",
       "      <td>s</td>\n",
       "      <td>w</td>\n",
       "      <td>w</td>\n",
       "      <td>p</td>\n",
       "      <td>w</td>\n",
       "      <td>o</td>\n",
       "      <td>p</td>\n",
       "      <td>k</td>\n",
       "      <td>s</td>\n",
       "      <td>u</td>\n",
       "    </tr>\n",
       "    <tr>\n",
       "      <th>1</th>\n",
       "      <td>e</td>\n",
       "      <td>x</td>\n",
       "      <td>s</td>\n",
       "      <td>y</td>\n",
       "      <td>t</td>\n",
       "      <td>a</td>\n",
       "      <td>f</td>\n",
       "      <td>c</td>\n",
       "      <td>b</td>\n",
       "      <td>k</td>\n",
       "      <td>...</td>\n",
       "      <td>s</td>\n",
       "      <td>w</td>\n",
       "      <td>w</td>\n",
       "      <td>p</td>\n",
       "      <td>w</td>\n",
       "      <td>o</td>\n",
       "      <td>p</td>\n",
       "      <td>n</td>\n",
       "      <td>n</td>\n",
       "      <td>g</td>\n",
       "    </tr>\n",
       "    <tr>\n",
       "      <th>2</th>\n",
       "      <td>e</td>\n",
       "      <td>b</td>\n",
       "      <td>s</td>\n",
       "      <td>w</td>\n",
       "      <td>t</td>\n",
       "      <td>l</td>\n",
       "      <td>f</td>\n",
       "      <td>c</td>\n",
       "      <td>b</td>\n",
       "      <td>n</td>\n",
       "      <td>...</td>\n",
       "      <td>s</td>\n",
       "      <td>w</td>\n",
       "      <td>w</td>\n",
       "      <td>p</td>\n",
       "      <td>w</td>\n",
       "      <td>o</td>\n",
       "      <td>p</td>\n",
       "      <td>n</td>\n",
       "      <td>n</td>\n",
       "      <td>m</td>\n",
       "    </tr>\n",
       "    <tr>\n",
       "      <th>3</th>\n",
       "      <td>p</td>\n",
       "      <td>x</td>\n",
       "      <td>y</td>\n",
       "      <td>w</td>\n",
       "      <td>t</td>\n",
       "      <td>p</td>\n",
       "      <td>f</td>\n",
       "      <td>c</td>\n",
       "      <td>n</td>\n",
       "      <td>n</td>\n",
       "      <td>...</td>\n",
       "      <td>s</td>\n",
       "      <td>w</td>\n",
       "      <td>w</td>\n",
       "      <td>p</td>\n",
       "      <td>w</td>\n",
       "      <td>o</td>\n",
       "      <td>p</td>\n",
       "      <td>k</td>\n",
       "      <td>s</td>\n",
       "      <td>u</td>\n",
       "    </tr>\n",
       "    <tr>\n",
       "      <th>4</th>\n",
       "      <td>e</td>\n",
       "      <td>x</td>\n",
       "      <td>s</td>\n",
       "      <td>g</td>\n",
       "      <td>f</td>\n",
       "      <td>n</td>\n",
       "      <td>f</td>\n",
       "      <td>w</td>\n",
       "      <td>b</td>\n",
       "      <td>k</td>\n",
       "      <td>...</td>\n",
       "      <td>s</td>\n",
       "      <td>w</td>\n",
       "      <td>w</td>\n",
       "      <td>p</td>\n",
       "      <td>w</td>\n",
       "      <td>o</td>\n",
       "      <td>e</td>\n",
       "      <td>n</td>\n",
       "      <td>a</td>\n",
       "      <td>g</td>\n",
       "    </tr>\n",
       "  </tbody>\n",
       "</table>\n",
       "<p>5 rows × 23 columns</p>\n",
       "</div>"
      ],
      "text/plain": [
       "  class cap-shape cap-surface cap-color bruises odor gill-attachment  \\\n",
       "0     p         x           s         n       t    p               f   \n",
       "1     e         x           s         y       t    a               f   \n",
       "2     e         b           s         w       t    l               f   \n",
       "3     p         x           y         w       t    p               f   \n",
       "4     e         x           s         g       f    n               f   \n",
       "\n",
       "  gill-spacing gill-size gill-color   ...   stalk-surface-below-ring  \\\n",
       "0            c         n          k   ...                          s   \n",
       "1            c         b          k   ...                          s   \n",
       "2            c         b          n   ...                          s   \n",
       "3            c         n          n   ...                          s   \n",
       "4            w         b          k   ...                          s   \n",
       "\n",
       "  stalk-color-above-ring stalk-color-below-ring veil-type veil-color  \\\n",
       "0                      w                      w         p          w   \n",
       "1                      w                      w         p          w   \n",
       "2                      w                      w         p          w   \n",
       "3                      w                      w         p          w   \n",
       "4                      w                      w         p          w   \n",
       "\n",
       "  ring-number ring-type spore-print-color population habitat  \n",
       "0           o         p                 k          s       u  \n",
       "1           o         p                 n          n       g  \n",
       "2           o         p                 n          n       m  \n",
       "3           o         p                 k          s       u  \n",
       "4           o         e                 n          a       g  \n",
       "\n",
       "[5 rows x 23 columns]"
      ]
     },
     "execution_count": 24,
     "metadata": {},
     "output_type": "execute_result"
    }
   ],
   "source": [
    "data = pd.read_csv(\"mushrooms.csv\"); data[:5]"
   ]
  },
  {
   "cell_type": "code",
   "execution_count": 36,
   "metadata": {},
   "outputs": [
    {
     "name": "stdout",
     "output_type": "stream",
     "text": [
      "23\n"
     ]
    },
    {
     "data": {
      "text/html": [
       "<div>\n",
       "<style scoped>\n",
       "    .dataframe tbody tr th:only-of-type {\n",
       "        vertical-align: middle;\n",
       "    }\n",
       "\n",
       "    .dataframe tbody tr th {\n",
       "        vertical-align: top;\n",
       "    }\n",
       "\n",
       "    .dataframe thead th {\n",
       "        text-align: right;\n",
       "    }\n",
       "</style>\n",
       "<table border=\"1\" class=\"dataframe\">\n",
       "  <thead>\n",
       "    <tr style=\"text-align: right;\">\n",
       "      <th></th>\n",
       "      <th>Periculosidade</th>\n",
       "      <th>Forma</th>\n",
       "      <th>Formato chapéu</th>\n",
       "      <th>Cor chapéu</th>\n",
       "      <th>Machucada</th>\n",
       "      <th>Odor</th>\n",
       "      <th>Ligação Branquea</th>\n",
       "      <th>Espaçamento Branquia</th>\n",
       "      <th>Tamanho Branquia</th>\n",
       "      <th>Cor Branquia</th>\n",
       "      <th>...</th>\n",
       "      <th>Stalk superficie embaixo do anel</th>\n",
       "      <th>Stalk cor emcima do anel</th>\n",
       "      <th>Stalk cor embaixo do anel</th>\n",
       "      <th>Veil tipo</th>\n",
       "      <th>Veil cor</th>\n",
       "      <th>Numero Anel</th>\n",
       "      <th>Tipo Anel</th>\n",
       "      <th>Cor poro</th>\n",
       "      <th>População</th>\n",
       "      <th>Habitat</th>\n",
       "    </tr>\n",
       "  </thead>\n",
       "  <tbody>\n",
       "    <tr>\n",
       "      <th>0</th>\n",
       "      <td>venenoso</td>\n",
       "      <td>Convex</td>\n",
       "      <td>smooth</td>\n",
       "      <td>Marrom</td>\n",
       "      <td>t</td>\n",
       "      <td>venenoso</td>\n",
       "      <td>f</td>\n",
       "      <td>c</td>\n",
       "      <td>n</td>\n",
       "      <td>k</td>\n",
       "      <td>...</td>\n",
       "      <td>s</td>\n",
       "      <td>w</td>\n",
       "      <td>w</td>\n",
       "      <td>venenoso</td>\n",
       "      <td>w</td>\n",
       "      <td>o</td>\n",
       "      <td>venenoso</td>\n",
       "      <td>k</td>\n",
       "      <td>s</td>\n",
       "      <td>urbano</td>\n",
       "    </tr>\n",
       "    <tr>\n",
       "      <th>1</th>\n",
       "      <td>comestível</td>\n",
       "      <td>Convex</td>\n",
       "      <td>smooth</td>\n",
       "      <td>Amarelo</td>\n",
       "      <td>t</td>\n",
       "      <td>a</td>\n",
       "      <td>f</td>\n",
       "      <td>c</td>\n",
       "      <td>b</td>\n",
       "      <td>k</td>\n",
       "      <td>...</td>\n",
       "      <td>s</td>\n",
       "      <td>w</td>\n",
       "      <td>w</td>\n",
       "      <td>venenoso</td>\n",
       "      <td>w</td>\n",
       "      <td>o</td>\n",
       "      <td>venenoso</td>\n",
       "      <td>n</td>\n",
       "      <td>n</td>\n",
       "      <td>grama</td>\n",
       "    </tr>\n",
       "    <tr>\n",
       "      <th>2</th>\n",
       "      <td>comestível</td>\n",
       "      <td>Bell</td>\n",
       "      <td>smooth</td>\n",
       "      <td>Branco</td>\n",
       "      <td>t</td>\n",
       "      <td>l</td>\n",
       "      <td>f</td>\n",
       "      <td>c</td>\n",
       "      <td>b</td>\n",
       "      <td>n</td>\n",
       "      <td>...</td>\n",
       "      <td>s</td>\n",
       "      <td>w</td>\n",
       "      <td>w</td>\n",
       "      <td>venenoso</td>\n",
       "      <td>w</td>\n",
       "      <td>o</td>\n",
       "      <td>venenoso</td>\n",
       "      <td>n</td>\n",
       "      <td>n</td>\n",
       "      <td>prados</td>\n",
       "    </tr>\n",
       "    <tr>\n",
       "      <th>3</th>\n",
       "      <td>venenoso</td>\n",
       "      <td>Convex</td>\n",
       "      <td>scaly</td>\n",
       "      <td>Branco</td>\n",
       "      <td>t</td>\n",
       "      <td>venenoso</td>\n",
       "      <td>f</td>\n",
       "      <td>c</td>\n",
       "      <td>n</td>\n",
       "      <td>n</td>\n",
       "      <td>...</td>\n",
       "      <td>s</td>\n",
       "      <td>w</td>\n",
       "      <td>w</td>\n",
       "      <td>venenoso</td>\n",
       "      <td>w</td>\n",
       "      <td>o</td>\n",
       "      <td>venenoso</td>\n",
       "      <td>k</td>\n",
       "      <td>s</td>\n",
       "      <td>urbano</td>\n",
       "    </tr>\n",
       "    <tr>\n",
       "      <th>4</th>\n",
       "      <td>comestível</td>\n",
       "      <td>Convex</td>\n",
       "      <td>smooth</td>\n",
       "      <td>Cinza</td>\n",
       "      <td>f</td>\n",
       "      <td>n</td>\n",
       "      <td>f</td>\n",
       "      <td>w</td>\n",
       "      <td>b</td>\n",
       "      <td>k</td>\n",
       "      <td>...</td>\n",
       "      <td>s</td>\n",
       "      <td>w</td>\n",
       "      <td>w</td>\n",
       "      <td>venenoso</td>\n",
       "      <td>w</td>\n",
       "      <td>o</td>\n",
       "      <td>comestível</td>\n",
       "      <td>n</td>\n",
       "      <td>a</td>\n",
       "      <td>grama</td>\n",
       "    </tr>\n",
       "  </tbody>\n",
       "</table>\n",
       "<p>5 rows × 23 columns</p>\n",
       "</div>"
      ],
      "text/plain": [
       "  Periculosidade   Forma Formato chapéu Cor chapéu Machucada      Odor  \\\n",
       "0       venenoso  Convex         smooth     Marrom         t  venenoso   \n",
       "1     comestível  Convex         smooth    Amarelo         t         a   \n",
       "2     comestível    Bell         smooth     Branco         t         l   \n",
       "3       venenoso  Convex          scaly     Branco         t  venenoso   \n",
       "4     comestível  Convex         smooth      Cinza         f         n   \n",
       "\n",
       "  Ligação Branquea Espaçamento Branquia Tamanho Branquia Cor Branquia   ...    \\\n",
       "0                f                    c                n            k   ...     \n",
       "1                f                    c                b            k   ...     \n",
       "2                f                    c                b            n   ...     \n",
       "3                f                    c                n            n   ...     \n",
       "4                f                    w                b            k   ...     \n",
       "\n",
       "  Stalk superficie embaixo do anel Stalk cor emcima do anel  \\\n",
       "0                                s                        w   \n",
       "1                                s                        w   \n",
       "2                                s                        w   \n",
       "3                                s                        w   \n",
       "4                                s                        w   \n",
       "\n",
       "  Stalk cor embaixo do anel Veil tipo Veil cor Numero Anel   Tipo Anel  \\\n",
       "0                         w  venenoso        w           o    venenoso   \n",
       "1                         w  venenoso        w           o    venenoso   \n",
       "2                         w  venenoso        w           o    venenoso   \n",
       "3                         w  venenoso        w           o    venenoso   \n",
       "4                         w  venenoso        w           o  comestível   \n",
       "\n",
       "  Cor poro População Habitat  \n",
       "0        k         s  urbano  \n",
       "1        n         n   grama  \n",
       "2        n         n  prados  \n",
       "3        k         s  urbano  \n",
       "4        n         a   grama  \n",
       "\n",
       "[5 rows x 23 columns]"
      ]
     },
     "execution_count": 36,
     "metadata": {},
     "output_type": "execute_result"
    }
   ],
   "source": [
    "Limpeza(); data[:5]"
   ]
  },
  {
   "cell_type": "markdown",
   "metadata": {},
   "source": [
    "\n",
    "### Características"
   ]
  },
  {
   "cell_type": "markdown",
   "metadata": {},
   "source": [
    "#### Quantidade dos cogumelos do dataset para cada tipo de classe"
   ]
  },
  {
   "cell_type": "code",
   "execution_count": 26,
   "metadata": {},
   "outputs": [
    {
     "data": {
      "image/png": "[encoded data removed]",
      "text/plain": [
       "<Figure size 432x288 with 1 Axes>"
      ]
     },
     "metadata": {
      "needs_background": "light"
     },
     "output_type": "display_data"
    }
   ],
   "source": [
    "periculosidade = data[\"Periculosidade\"].value_counts(True)\n",
    "plt.bar(periculosidade.index, periculosidade, color=[\"g\",\"r\"]);"
   ]
  },
  {
   "cell_type": "markdown",
   "metadata": {},
   "source": [
    "### Quantidade dos cogumelos do dataset para cada tipo de habitat"
   ]
  },
  {
   "cell_type": "code",
   "execution_count": 27,
   "metadata": {},
   "outputs": [
    {
     "data": {
      "image/png": "[encoded data removed]",
      "text/plain": [
       "<Figure size 432x288 with 1 Axes>"
      ]
     },
     "metadata": {
      "needs_background": "light"
     },
     "output_type": "display_data"
    }
   ],
   "source": [
    "habitat = data[\"Habitat\"].value_counts(True);\n",
    "plt.bar(habitat.index, habitat, color=\"#000080\");"
   ]
  },
  {
   "cell_type": "markdown",
   "metadata": {},
   "source": [
    "### Quantidade dos cogumelos do dataset para cada tipo de forma"
   ]
  },
  {
   "cell_type": "code",
   "execution_count": 28,
   "metadata": {},
   "outputs": [
    {
     "data": {
      "image/png": "[encoded data removed]",
      "text/plain": [
       "<Figure size 432x288 with 1 Axes>"
      ]
     },
     "metadata": {
      "needs_background": "light"
     },
     "output_type": "display_data"
    }
   ],
   "source": [
    "forma = data['Forma'].value_counts(True);\n",
    "plt.bar(forma.index, forma, color=\"#000080\");"
   ]
  },
  {
   "cell_type": "markdown",
   "metadata": {},
   "source": [
    "### Quantidade dos cogumelos venenosos e comestíveis do para cor do chapéu\n"
   ]
  },
  {
   "cell_type": "code",
   "execution_count": 42,
   "metadata": {},
   "outputs": [],
   "source": [
    "#Metódo obtido a partir do Kaggle dentro da área de kernels do nosso dataset"
   ]
  },
  {
   "cell_type": "code",
   "execution_count": 37,
   "metadata": {},
   "outputs": [],
   "source": [
    "#Obtain total number of mushrooms for each 'cap-color' (Entire DataFrame)\n",
    "cap_colors = data['Cor chapéu'].value_counts()\n",
    "m_height = cap_colors.values.tolist() #Provides numerical values\n",
    "cap_colors.axes #Provides row labels\n",
    "cap_color_labels = cap_colors.axes[0].tolist() #Converts index object to list"
   ]
  },
  {
   "cell_type": "code",
   "execution_count": 41,
   "metadata": {},
   "outputs": [
    {
     "data": {
      "image/png": "[encoded data removed]",
      "text/plain": [
       "<Figure size 864x504 with 1 Axes>"
      ]
     },
     "metadata": {
      "needs_background": "light"
     },
     "output_type": "display_data"
    },
    {
     "name": "stdout",
     "output_type": "stream",
     "text": [
      "[1264, 1032, 624, 400, 720, 48, 56, 32, 16, 16]\n",
      "[1020, 808, 876, 672, 320, 120, 88, 12, 0, 0]\n"
     ]
    }
   ],
   "source": [
    "poisonous_cc = [] #Poisonous color cap list\n",
    "edible_cc = []    #Edible color cap list\n",
    "for capColor in cap_color_labels:\n",
    "    size = len(data[data['Cor chapéu'] == capColor].index)\n",
    "    edibles = len(data[(data['Cor chapéu'] == capColor) & (data['Periculosidade'] == 'comestível')].index)\n",
    "    edible_cc.append(edibles)\n",
    "    poisonous_cc.append(size-edibles)\n",
    "                        \n",
    "#=====PLOT Preparations and Plotting====#\n",
    "ind = np.arange(10)  # the x locations for the groups\n",
    "width = 0.40\n",
    "fig, ax = plt.subplots(figsize=(12,7))\n",
    "edible_bars = ax.bar(ind, edible_cc , width, color='#ADFF2F')\n",
    "poison_bars = ax.bar(ind+width, poisonous_cc , width, color='#DA70D6')\n",
    "\n",
    "#Add some text for labels, title and axes ticks\n",
    "ax.set_xlabel(\"Cap Color\",fontsize=20)\n",
    "ax.set_ylabel('Quantity',fontsize=20)\n",
    "ax.set_title('Edible and Poisonous Mushrooms Based on Cap Color',fontsize=22)\n",
    "ax.set_xticks(ind + width / 2) #Positioning on the x axis\n",
    "ax.set_xticklabels(('brown', 'gray','red','yellow','white','buff','pink','cinnamon','purple','green'),\n",
    "                  fontsize = 12)\n",
    "ax.legend((edible_bars,poison_bars),('edible','poisonous'),fontsize=17)\n",
    "plt.show()\n",
    "print(edible_cc)\n",
    "print(poisonous_cc)"
   ]
  },
  {
   "cell_type": "code",
   "execution_count": null,
   "metadata": {},
   "outputs": [],
   "source": []
  }
 ],
 "metadata": {
  "kernelspec": {
   "display_name": "Python 3",
   "language": "python",
   "name": "python3"
  },
  "language_info": {
   "codemirror_mode": {
    "name": "ipython",
    "version": 3
   },
   "file_extension": ".py",
   "mimetype": "text/x-python",
   "name": "python",
   "nbconvert_exporter": "python",
   "pygments_lexer": "ipython3",
   "version": "3.7.1"
  }
 },
 "nbformat": 4,
 "nbformat_minor": 2
}
