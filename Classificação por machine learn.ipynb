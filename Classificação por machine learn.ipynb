{
 "cells": [
  {
   "cell_type": "code",
   "execution_count": 1,
   "metadata": {},
   "outputs": [
    {
     "name": "stdout",
     "output_type": "stream",
     "text": [
      "importing Jupyter notebook from Funções.ipynb\n"
     ]
    }
   ],
   "source": [
    "from sklearn.model_selection import train_test_split as tts\n",
    "from sklearn.metrics import *\n",
    "from sklearn.tree import DecisionTreeClassifier as DecisionTree\n",
    "from sklearn.linear_model import LogisticRegression\n",
    "from sklearn.naive_bayes import BernoulliNB\n",
    "from sklearn.naive_bayes import GaussianNB\n",
    "from sklearn.naive_bayes import MultinomialNB\n",
    "# Funções\n",
    "import import_ipynb\n",
    "from Funções import *\n",
    "# Plot\n",
    "import matplotlib.pyplot as plt"
   ]
  },
  {
   "cell_type": "code",
   "execution_count": 2,
   "metadata": {},
   "outputs": [],
   "source": [
    "def Previsão(tipo,local,logistica=False):\n",
    "    \n",
    "    if logistica:\n",
    "        model = tipo(solver='lbfgs',multi_class='auto',max_iter=1000)\n",
    "    else:\n",
    "        model = tipo()\n",
    "    \n",
    "    model.fit(X_treino,Y_treino);\n",
    "    \n",
    "    model.score(X_teste,Y_teste);\n",
    "    \n",
    "    Y_predict = model.predict(X_teste)\n",
    "    \n",
    "    acertos=0\n",
    "    for i in range(len(X_teste)):\n",
    "        \n",
    "        if Y_predict[i]==Y_teste.iloc[i]:\n",
    "            acertos+=1    \n",
    "        #else:\n",
    "         #   print('Error',data.iloc[X_teste.index])\n",
    "                    \n",
    "    #print()\n",
    "\n",
    "    #print()\n",
    "    \n",
    "    #print('Numero de acertos:',acertos)\n",
    "    \n",
    "    erros = len(X_teste)-acertos\n",
    "    #print('Número de erros:',erros)\n",
    "    \n",
    "    #print('Porcentagem de acertos: {:.2f}%'.format(acertos/len(X_teste)*100) )\n",
    "    \n",
    "    classif = [\"acertos\",\"erros\"]\n",
    "    \n",
    "    plt.subplot(3,2,local)\n",
    "    \n",
    "    \n",
    "    plt.bar( classif[0], acertos,color='g')\n",
    "\n",
    "    plt.bar( classif[1] , erros,color='r')\n",
    "    \n",
    "    plt.xticks(classif);\n",
    "    \n",
    "    plt.show()\n",
    "    \n",
    "    return erros,acertos\n"
   ]
  },
  {
   "cell_type": "code",
   "execution_count": 3,
   "metadata": {},
   "outputs": [
    {
     "data": {
      "text/html": [
       "<div>\n",
       "<style scoped>\n",
       "    .dataframe tbody tr th:only-of-type {\n",
       "        vertical-align: middle;\n",
       "    }\n",
       "\n",
       "    .dataframe tbody tr th {\n",
       "        vertical-align: top;\n",
       "    }\n",
       "\n",
       "    .dataframe thead th {\n",
       "        text-align: right;\n",
       "    }\n",
       "</style>\n",
       "<table border=\"1\" class=\"dataframe\">\n",
       "  <thead>\n",
       "    <tr style=\"text-align: right;\">\n",
       "      <th></th>\n",
       "      <th>Periculosidade</th>\n",
       "      <th>Forma</th>\n",
       "      <th>Formato chapéu</th>\n",
       "      <th>Cor chapéu</th>\n",
       "      <th>Machucada</th>\n",
       "      <th>Odor</th>\n",
       "      <th>Ligação Branquea</th>\n",
       "      <th>Espaçamento Branquia</th>\n",
       "      <th>Tamanho Branquia</th>\n",
       "      <th>Cor Branquia</th>\n",
       "      <th>...</th>\n",
       "      <th>Stalk superficie embaixo do anel</th>\n",
       "      <th>Stalk cor emcima do anel</th>\n",
       "      <th>Stalk cor embaixo do anel</th>\n",
       "      <th>Veil tipo</th>\n",
       "      <th>Veil cor</th>\n",
       "      <th>Numero Anel</th>\n",
       "      <th>Tipo Anel</th>\n",
       "      <th>Cor poro</th>\n",
       "      <th>População</th>\n",
       "      <th>Habitat</th>\n",
       "    </tr>\n",
       "  </thead>\n",
       "  <tbody>\n",
       "    <tr>\n",
       "      <th>0</th>\n",
       "      <td>venenoso</td>\n",
       "      <td>Convex</td>\n",
       "      <td>smooth</td>\n",
       "      <td>Marrom</td>\n",
       "      <td>machucada</td>\n",
       "      <td>Pungent</td>\n",
       "      <td>Free</td>\n",
       "      <td>Close</td>\n",
       "      <td>Narrow</td>\n",
       "      <td>Black</td>\n",
       "      <td>...</td>\n",
       "      <td>Smooth</td>\n",
       "      <td>White</td>\n",
       "      <td>White</td>\n",
       "      <td>Partipial</td>\n",
       "      <td>White</td>\n",
       "      <td>one</td>\n",
       "      <td>Pendant</td>\n",
       "      <td>Black</td>\n",
       "      <td>Scattered</td>\n",
       "      <td>urbano</td>\n",
       "    </tr>\n",
       "    <tr>\n",
       "      <th>1</th>\n",
       "      <td>comestível</td>\n",
       "      <td>Convex</td>\n",
       "      <td>smooth</td>\n",
       "      <td>Amarelo</td>\n",
       "      <td>machucada</td>\n",
       "      <td>Almond</td>\n",
       "      <td>Free</td>\n",
       "      <td>Close</td>\n",
       "      <td>Broad</td>\n",
       "      <td>Black</td>\n",
       "      <td>...</td>\n",
       "      <td>Smooth</td>\n",
       "      <td>White</td>\n",
       "      <td>White</td>\n",
       "      <td>Partipial</td>\n",
       "      <td>White</td>\n",
       "      <td>one</td>\n",
       "      <td>Pendant</td>\n",
       "      <td>Brown</td>\n",
       "      <td>Numerous</td>\n",
       "      <td>grama</td>\n",
       "    </tr>\n",
       "    <tr>\n",
       "      <th>2</th>\n",
       "      <td>comestível</td>\n",
       "      <td>Bell</td>\n",
       "      <td>smooth</td>\n",
       "      <td>Branco</td>\n",
       "      <td>machucada</td>\n",
       "      <td>Anise</td>\n",
       "      <td>Free</td>\n",
       "      <td>Close</td>\n",
       "      <td>Broad</td>\n",
       "      <td>Brown</td>\n",
       "      <td>...</td>\n",
       "      <td>Smooth</td>\n",
       "      <td>White</td>\n",
       "      <td>White</td>\n",
       "      <td>Partipial</td>\n",
       "      <td>White</td>\n",
       "      <td>one</td>\n",
       "      <td>Pendant</td>\n",
       "      <td>Brown</td>\n",
       "      <td>Numerous</td>\n",
       "      <td>prados</td>\n",
       "    </tr>\n",
       "    <tr>\n",
       "      <th>3</th>\n",
       "      <td>venenoso</td>\n",
       "      <td>Convex</td>\n",
       "      <td>scaly</td>\n",
       "      <td>Branco</td>\n",
       "      <td>machucada</td>\n",
       "      <td>Pungent</td>\n",
       "      <td>Free</td>\n",
       "      <td>Close</td>\n",
       "      <td>Narrow</td>\n",
       "      <td>Brown</td>\n",
       "      <td>...</td>\n",
       "      <td>Smooth</td>\n",
       "      <td>White</td>\n",
       "      <td>White</td>\n",
       "      <td>Partipial</td>\n",
       "      <td>White</td>\n",
       "      <td>one</td>\n",
       "      <td>Pendant</td>\n",
       "      <td>Black</td>\n",
       "      <td>Scattered</td>\n",
       "      <td>urbano</td>\n",
       "    </tr>\n",
       "    <tr>\n",
       "      <th>4</th>\n",
       "      <td>comestível</td>\n",
       "      <td>Convex</td>\n",
       "      <td>smooth</td>\n",
       "      <td>Cinza</td>\n",
       "      <td>nao machucada</td>\n",
       "      <td>none</td>\n",
       "      <td>Free</td>\n",
       "      <td>Crowded</td>\n",
       "      <td>Broad</td>\n",
       "      <td>Black</td>\n",
       "      <td>...</td>\n",
       "      <td>Smooth</td>\n",
       "      <td>White</td>\n",
       "      <td>White</td>\n",
       "      <td>Partipial</td>\n",
       "      <td>White</td>\n",
       "      <td>one</td>\n",
       "      <td>Evanescent</td>\n",
       "      <td>Brown</td>\n",
       "      <td>Abundant</td>\n",
       "      <td>grama</td>\n",
       "    </tr>\n",
       "  </tbody>\n",
       "</table>\n",
       "<p>5 rows × 23 columns</p>\n",
       "</div>"
      ],
      "text/plain": [
       "  Periculosidade   Forma Formato chapéu Cor chapéu      Machucada     Odor  \\\n",
       "0       venenoso  Convex         smooth     Marrom      machucada  Pungent   \n",
       "1     comestível  Convex         smooth    Amarelo      machucada   Almond   \n",
       "2     comestível    Bell         smooth     Branco      machucada    Anise   \n",
       "3       venenoso  Convex          scaly     Branco      machucada  Pungent   \n",
       "4     comestível  Convex         smooth      Cinza  nao machucada     none   \n",
       "\n",
       "  Ligação Branquea Espaçamento Branquia Tamanho Branquia Cor Branquia   ...    \\\n",
       "0             Free                Close           Narrow        Black   ...     \n",
       "1             Free                Close            Broad        Black   ...     \n",
       "2             Free                Close            Broad        Brown   ...     \n",
       "3             Free                Close           Narrow        Brown   ...     \n",
       "4             Free              Crowded            Broad        Black   ...     \n",
       "\n",
       "  Stalk superficie embaixo do anel Stalk cor emcima do anel  \\\n",
       "0                           Smooth                    White   \n",
       "1                           Smooth                    White   \n",
       "2                           Smooth                    White   \n",
       "3                           Smooth                    White   \n",
       "4                           Smooth                    White   \n",
       "\n",
       "  Stalk cor embaixo do anel  Veil tipo Veil cor Numero Anel   Tipo Anel  \\\n",
       "0                     White  Partipial    White         one     Pendant   \n",
       "1                     White  Partipial    White         one     Pendant   \n",
       "2                     White  Partipial    White         one     Pendant   \n",
       "3                     White  Partipial    White         one     Pendant   \n",
       "4                     White  Partipial    White         one  Evanescent   \n",
       "\n",
       "  Cor poro  População Habitat  \n",
       "0    Black  Scattered  urbano  \n",
       "1    Brown   Numerous   grama  \n",
       "2    Brown   Numerous  prados  \n",
       "3    Black  Scattered  urbano  \n",
       "4    Brown   Abundant   grama  \n",
       "\n",
       "[5 rows x 23 columns]"
      ]
     },
     "execution_count": 3,
     "metadata": {},
     "output_type": "execute_result"
    }
   ],
   "source": [
    "data = pd.read_csv(\"mushrooms.csv\"); Limpeza(data); data[:5]"
   ]
  },
  {
   "cell_type": "code",
   "execution_count": 4,
   "metadata": {},
   "outputs": [],
   "source": [
    "# Método encontrado na internet/ busca na área de Kernels do dataset no Kaagle\n",
    "from sklearn.preprocessing import LabelEncoder\n",
    "labelencoder=LabelEncoder()\n",
    "for col in data.columns:\n",
    "    data[col] = labelencoder.fit_transform(data[col])"
   ]
  },
  {
   "cell_type": "code",
   "execution_count": 5,
   "metadata": {},
   "outputs": [],
   "source": [
    "# características dos animais para o teste;\n",
    "inputs = data.drop(columns=[\"Periculosidade\"])\n",
    "# resultado esperado;\n",
    "target = data[\"Periculosidade\"]\n",
    "#separando dataframes teste e treino\n",
    "X_treino,X_teste,Y_treino,Y_teste=tts(inputs,target,test_size=0.8)"
   ]
  },
  {
   "cell_type": "code",
   "execution_count": 6,
   "metadata": {},
   "outputs": [
    {
     "data": {
      "image/png": "[encoded data removed]",
      "text/plain": [
       "<Figure size 504x504 with 1 Axes>"
      ]
     },
     "metadata": {
      "needs_background": "light"
     },
     "output_type": "display_data"
    },
    {
     "data": {
      "image/png": "[encoded data removed]",
      "text/plain": [
       "<Figure size 432x288 with 1 Axes>"
      ]
     },
     "metadata": {
      "needs_background": "light"
     },
     "output_type": "display_data"
    },
    {
     "data": {
      "image/png": "[encoded data removed]",
      "text/plain": [
       "<Figure size 432x288 with 1 Axes>"
      ]
     },
     "metadata": {
      "needs_background": "light"
     },
     "output_type": "display_data"
    },
    {
     "data": {
      "image/png": "[encoded data removed]",
      "text/plain": [
       "<Figure size 432x288 with 1 Axes>"
      ]
     },
     "metadata": {
      "needs_background": "light"
     },
     "output_type": "display_data"
    },
    {
     "data": {
      "text/plain": [
       "(4, 6496)"
      ]
     },
     "execution_count": 6,
     "metadata": {},
     "output_type": "execute_result"
    }
   ],
   "source": [
    "plt.figure(figsize=(7,7))\n",
    "Previsão(DecisionTree,1)\n",
    "\n",
    "Previsão(DecisionTree,2)\n",
    "\n",
    "Previsão(DecisionTree,3)\n",
    "\n",
    "Previsão(DecisionTree,4)"
   ]
  },
  {
   "cell_type": "code",
   "execution_count": 7,
   "metadata": {},
   "outputs": [
    {
     "ename": "TypeError",
     "evalue": "Previsão() missing 1 required positional argument: 'local'",
     "output_type": "error",
     "traceback": [
      "\u001b[0;31m---------------------------------------------------------------------------\u001b[0m",
      "\u001b[0;31mTypeError\u001b[0m                                 Traceback (most recent call last)",
      "\u001b[0;32m<ipython-input-7-440d98509690>\u001b[0m in \u001b[0;36m<module>\u001b[0;34m\u001b[0m\n\u001b[1;32m      1\u001b[0m \u001b[0mplt\u001b[0m\u001b[0;34m.\u001b[0m\u001b[0mfigure\u001b[0m\u001b[0;34m(\u001b[0m\u001b[0mfigsize\u001b[0m\u001b[0;34m=\u001b[0m\u001b[0;34m(\u001b[0m\u001b[0;36m18\u001b[0m\u001b[0;34m,\u001b[0m\u001b[0;36m9\u001b[0m\u001b[0;34m)\u001b[0m\u001b[0;34m)\u001b[0m\u001b[0;34m\u001b[0m\u001b[0;34m\u001b[0m\u001b[0m\n\u001b[1;32m      2\u001b[0m \u001b[0mplt\u001b[0m\u001b[0;34m.\u001b[0m\u001b[0msubplot\u001b[0m\u001b[0;34m(\u001b[0m\u001b[0;36m3\u001b[0m\u001b[0;34m,\u001b[0m\u001b[0;36m2\u001b[0m\u001b[0;34m,\u001b[0m\u001b[0;36m1\u001b[0m\u001b[0;34m)\u001b[0m\u001b[0;34m\u001b[0m\u001b[0;34m\u001b[0m\u001b[0m\n\u001b[0;32m----> 3\u001b[0;31m \u001b[0merros\u001b[0m\u001b[0;34m,\u001b[0m\u001b[0macertos\u001b[0m \u001b[0;34m=\u001b[0m \u001b[0mPrevisão\u001b[0m\u001b[0;34m(\u001b[0m\u001b[0mDecisionTree\u001b[0m\u001b[0;34m)\u001b[0m\u001b[0;34m;\u001b[0m\u001b[0;34m\u001b[0m\u001b[0;34m\u001b[0m\u001b[0m\n\u001b[0m\u001b[1;32m      4\u001b[0m \u001b[0mtotal_erros\u001b[0m\u001b[0;34m.\u001b[0m\u001b[0mappend\u001b[0m\u001b[0;34m(\u001b[0m\u001b[0merros\u001b[0m\u001b[0;34m)\u001b[0m\u001b[0;34m;\u001b[0m \u001b[0mtotal_acertos\u001b[0m\u001b[0;34m.\u001b[0m\u001b[0mappend\u001b[0m\u001b[0;34m(\u001b[0m\u001b[0macertos\u001b[0m\u001b[0;34m)\u001b[0m\u001b[0;34m\u001b[0m\u001b[0;34m\u001b[0m\u001b[0m\n\u001b[1;32m      5\u001b[0m \u001b[0;34m\u001b[0m\u001b[0m\n",
      "\u001b[0;31mTypeError\u001b[0m: Previsão() missing 1 required positional argument: 'local'"
     ]
    },
    {
     "data": {
      "image/png": "[encoded data removed]",
      "text/plain": [
       "<Figure size 1296x648 with 1 Axes>"
      ]
     },
     "metadata": {
      "needs_background": "light"
     },
     "output_type": "display_data"
    }
   ],
   "source": [
    "plt.figure(figsize=(18,9))\n",
    "plt.subplot(3,2,1)\n",
    "erros,acertos = Previsão(DecisionTree);\n",
    "total_erros.append(erros); total_acertos.append(acertos)\n",
    "\n",
    "plt.subplot(3,2,2)\n",
    "erros,acertos = Previsão(DecisionTree);\n",
    "total_erros.append(erros); total_acertos.append(acertos)"
   ]
  },
  {
   "cell_type": "code",
   "execution_count": null,
   "metadata": {},
   "outputs": [],
   "source": [
    "Previsão(LogisticRegression,0,logistica=True)"
   ]
  },
  {
   "cell_type": "code",
   "execution_count": null,
   "metadata": {},
   "outputs": [],
   "source": [
    "Previsão(BernoulliNB,0)"
   ]
  },
  {
   "cell_type": "code",
   "execution_count": null,
   "metadata": {},
   "outputs": [],
   "source": [
    "Previsão(GaussianNB,0)"
   ]
  },
  {
   "cell_type": "code",
   "execution_count": null,
   "metadata": {},
   "outputs": [],
   "source": []
  }
 ],
 "metadata": {
  "kernelspec": {
   "display_name": "Python 3",
   "language": "python",
   "name": "python3"
  },
  "language_info": {
   "codemirror_mode": {
    "name": "ipython",
    "version": 3
   },
   "file_extension": ".py",
   "mimetype": "text/x-python",
   "name": "python",
   "nbconvert_exporter": "python",
   "pygments_lexer": "ipython3",
   "version": "3.7.1"
  }
 },
 "nbformat": 4,
 "nbformat_minor": 4
}
