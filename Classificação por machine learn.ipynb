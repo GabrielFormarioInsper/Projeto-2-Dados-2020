{
 "cells": [
  {
   "cell_type": "markdown",
   "metadata": {},
   "source": [
    "## Projeto 2 Ciência dos Dados 2020.1\n",
    "___\n",
    "- Daniel Gurgel Terra\n",
    "- Gabriel Formario\n",
    "___"
   ]
  },
  {
   "cell_type": "markdown",
   "metadata": {},
   "source": [
    "    Dada as características biológica dos cogumelos é possível um machine learning determinar se eles são venenosos ou comestíveis ?"
   ]
  },
  {
   "cell_type": "code",
   "execution_count": 1,
   "metadata": {},
   "outputs": [
    {
     "name": "stdout",
     "output_type": "stream",
     "text": [
      "importing Jupyter notebook from Funções.ipynb\n"
     ]
    }
   ],
   "source": [
    "# Importando funçoes e variáveis\n",
    "import import_ipynb\n",
    "from Funções import *"
   ]
  },
  {
   "cell_type": "markdown",
   "metadata": {},
   "source": [
    "## Previsões"
   ]
  },
  {
   "cell_type": "code",
   "execution_count": 2,
   "metadata": {},
   "outputs": [],
   "source": [
    "# Utiliza a função Previsão construída em Funções.ipynb e coleta os acertos colocando-os em uma lista\n",
    "total_acertos = []"
   ]
  },
  {
   "cell_type": "markdown",
   "metadata": {},
   "source": [
    "### NaiveBayes:\n",
    "O Naive Bayes coleta e enumera as informações do datasheet de treino e a partir dessas informações determina qual classe seria a mais provável de o cogumelo estar, sendo que essa é escolhida como previsão pelo classificador.\n",
    "\n",
    "\n",
    "\n",
    "Nesse notebook implementamos 3 tipos de NaiveBayes, que fazem o cálculo dessa probabilidade de maneira diferente, são eles:"
   ]
  },
  {
   "cell_type": "markdown",
   "metadata": {},
   "source": [
    "#### NB Multinomial\n",
    "O classificador Multinomial Naive Bayes é um NaiveBayes que tem outputs não binários, ou seja seus outputs podem assumir valores diferentes de apenas sim e não, no nosso caso os outputs podem assumir apenas 2 valores diferentes, sendo eles duas classficações, venenoso ou comestível."
   ]
  },
  {
   "cell_type": "code",
   "execution_count": 3,
   "metadata": {},
   "outputs": [],
   "source": [
    "acertos = Previsão(MultinomialNB); total_acertos.append(acertos)"
   ]
  },
  {
   "cell_type": "markdown",
   "metadata": {},
   "source": [
    "#### NB Gaussian"
   ]
  },
  {
   "cell_type": "code",
   "execution_count": 4,
   "metadata": {},
   "outputs": [],
   "source": [
    "acertos = Previsão(GaussianNB); total_acertos.append(acertos)"
   ]
  },
  {
   "cell_type": "markdown",
   "metadata": {},
   "source": [
    "#### NB Bernoulli \n",
    "Bernoulli NB implementa o treinamento de Naive Bayes e classifica os algoritmos para cada data que esta distribuida de acordo com o modelo de distribuição Bernoulli multivariada. Existem várias funções mas cada uma é asumida com um valor binário (Bernoulli, Bouleano). Concluindo, essa classe necessita de que as amostras sejam representadas como valores binários. Talvez ela se aplique melhor ao que buscamos."
   ]
  },
  {
   "cell_type": "code",
   "execution_count": 5,
   "metadata": {},
   "outputs": [],
   "source": [
    "acertos = Previsão(BernoulliNB); total_acertos.append(acertos)"
   ]
  },
  {
   "cell_type": "markdown",
   "metadata": {},
   "source": [
    "### Logistic Regression"
   ]
  },
  {
   "cell_type": "markdown",
   "metadata": {},
   "source": [
    "É uma abordagem comportamental que usa diagramas para mapear as varias alternativas e resultados de decisões de investimento, assim como as probabilidades de ocorrerem. Baseia - se em estimativas e probabilidades associadas aos resultados de cursos de ação que competem entre si. O resultado de cada curso de ação é ponderado pela probabilidade associada a ele; o resultado ponderado é somado e o valor esperado de cada curso de ação é, então determinado. A alternativa que proporciona o valor esperado mais alto é preferível. Essencialmente, árvores de decisões são diagramas que permitem representar e avaliar problemas que envolvem decisões sequenciais, colocando em destaque os riscos e os resultados financeiros identificados nos diversos cursos de ação. Para efectuar a representação gráfica da árvore de decisão são geralmente usadas linhas para identificar a decisão (por exemplo “sim” ou “não”) e nós para identificar a as questões sobre as quais se deve decidir. \n",
    "\n",
    "Dentro do nosso projeto utilizamos da DecisionTree para fazer perguntas na nossa base de dados visando a partir de caracteristicas biológicas determinar a qual classe biológica, um cogumelo que possui aquelas características, deveria pertencer. Seria como perguntar: \"qual espaçamento da branquia?\" e receber como resposta `crowded` ou `close`, a partir disso, faria outra pergunta , como por exemplo: \"O cogumelo está machucado?\" e assim em diante."
   ]
  },
  {
   "cell_type": "code",
   "execution_count": 6,
   "metadata": {},
   "outputs": [],
   "source": [
    "acertos = Previsão(LogisticRegression,logistica=True); total_acertos.append(acertos)"
   ]
  },
  {
   "cell_type": "markdown",
   "metadata": {},
   "source": [
    "### Decision Tree"
   ]
  },
  {
   "cell_type": "markdown",
   "metadata": {},
   "source": [
    "Considerando que tanto os nossos input são qualitivos de aspecto Dummy e que nossos ouputs também são qualitativos, imaginamos que a regressão logística seria um bom método de previsão pois pretendiamos responder de classificação assim como a aceita pela logística"
   ]
  },
  {
   "cell_type": "code",
   "execution_count": 7,
   "metadata": {},
   "outputs": [],
   "source": [
    "acertos = Previsão(DecisionTree); total_acertos.append(acertos)"
   ]
  },
  {
   "cell_type": "markdown",
   "metadata": {},
   "source": [
    "### Concluindo"
   ]
  },
  {
   "cell_type": "code",
   "execution_count": 8,
   "metadata": {},
   "outputs": [
    {
     "data": {
      "text/plain": [
       "[81.69, 92.82, 90.58, 94.46, 100.0]"
      ]
     },
     "execution_count": 8,
     "metadata": {},
     "output_type": "execute_result"
    }
   ],
   "source": [
    "total_acertos"
   ]
  },
  {
   "cell_type": "code",
   "execution_count": 9,
   "metadata": {},
   "outputs": [
    {
     "data": {
      "text/html": [
       "<div>\n",
       "<style scoped>\n",
       "    .dataframe tbody tr th:only-of-type {\n",
       "        vertical-align: middle;\n",
       "    }\n",
       "\n",
       "    .dataframe tbody tr th {\n",
       "        vertical-align: top;\n",
       "    }\n",
       "\n",
       "    .dataframe thead th {\n",
       "        text-align: right;\n",
       "    }\n",
       "</style>\n",
       "<table border=\"1\" class=\"dataframe\">\n",
       "  <thead>\n",
       "    <tr style=\"text-align: right;\">\n",
       "      <th></th>\n",
       "      <th>Percentual</th>\n",
       "    </tr>\n",
       "    <tr>\n",
       "      <th>Classificador</th>\n",
       "      <th></th>\n",
       "    </tr>\n",
       "  </thead>\n",
       "  <tbody>\n",
       "    <tr>\n",
       "      <th>DecisionTree</th>\n",
       "      <td>100.00</td>\n",
       "    </tr>\n",
       "    <tr>\n",
       "      <th>Logistic</th>\n",
       "      <td>94.46</td>\n",
       "    </tr>\n",
       "    <tr>\n",
       "      <th>Gaussian</th>\n",
       "      <td>92.82</td>\n",
       "    </tr>\n",
       "    <tr>\n",
       "      <th>Bernoulli</th>\n",
       "      <td>90.58</td>\n",
       "    </tr>\n",
       "    <tr>\n",
       "      <th>Multinomial</th>\n",
       "      <td>81.69</td>\n",
       "    </tr>\n",
       "  </tbody>\n",
       "</table>\n",
       "</div>"
      ],
      "text/plain": [
       "               Percentual\n",
       "Classificador            \n",
       "DecisionTree       100.00\n",
       "Logistic            94.46\n",
       "Gaussian            92.82\n",
       "Bernoulli           90.58\n",
       "Multinomial         81.69"
      ]
     },
     "execution_count": 9,
     "metadata": {},
     "output_type": "execute_result"
    }
   ],
   "source": [
    "# Transforma os os acertos obtidos pelos classificadores em um dataframe mostrando a % de acerto para cada tipo\n",
    "# de classificador\n",
    "resultado = pd.DataFrame(total_acertos,columns = [\"Percentual\"])\n",
    "resultado[\"Classificador\"] = ['Multinomial','Gaussian','Bernoulli','Logistic','DecisionTree']\n",
    "resultado = resultado.set_index(\"Classificador\")\n",
    "resultado = resultado.sort_values(by='Percentual', ascending=False)\n",
    "resultado"
   ]
  },
  {
   "cell_type": "markdown",
   "metadata": {},
   "source": [
    " "
   ]
  },
  {
   "cell_type": "markdown",
   "metadata": {},
   "source": [
    "MELHORAR ALGUM CLASSIFICADOR\n",
    "\n",
    "TEXTO!"
   ]
  },
  {
   "cell_type": "code",
   "execution_count": null,
   "metadata": {},
   "outputs": [],
   "source": []
  }
 ],
 "metadata": {
  "kernelspec": {
   "display_name": "Python 3",
   "language": "python",
   "name": "python3"
  },
  "language_info": {
   "codemirror_mode": {
    "name": "ipython",
    "version": 3
   },
   "file_extension": ".py",
   "mimetype": "text/x-python",
   "name": "python",
   "nbconvert_exporter": "python",
   "pygments_lexer": "ipython3",
   "version": "3.7.1"
  }
 },
 "nbformat": 4,
 "nbformat_minor": 4
}
